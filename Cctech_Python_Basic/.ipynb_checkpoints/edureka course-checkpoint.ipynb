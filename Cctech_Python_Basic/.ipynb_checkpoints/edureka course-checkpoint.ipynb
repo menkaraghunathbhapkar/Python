{
 "cells": [
  {
   "cell_type": "markdown",
   "id": "d84c45dc-9c2a-4212-8506-34bb787e84cc",
   "metadata": {},
   "source": [
    "# Arithmetic Operators"
   ]
  },
  {
   "cell_type": "code",
   "execution_count": 1,
   "id": "b4966c8d",
   "metadata": {},
   "outputs": [
    {
     "name": "stdout",
     "output_type": "stream",
     "text": [
      "Num1+Num2= 30\n",
      "Num1-Num2= -10\n",
      "Num1*Num2= 200\n",
      "Num1*Num2= 0.5\n",
      "5^3=  125\n",
      "20%3= 2\n",
      "22//7= 3\n"
     ]
    }
   ],
   "source": [
    "num1=10\n",
    "num2=20\n",
    "print(\"Num1+Num2=\",num1+num2)\n",
    "print(\"Num1-Num2=\",num1-num2)\n",
    "print(\"Num1*Num2=\",num1*num2)\n",
    "print(\"Num1*Num2=\",num1/num2)\n",
    "print('5^3= ',5**3)\n",
    "print(\"20%3=\",20%3)\n",
    "print(\"22//7=\",22//7)"
   ]
  },
  {
   "cell_type": "markdown",
   "id": "c4a0afa5-93bb-44e1-8877-65f8d0b4efc5",
   "metadata": {},
   "source": [
    "Assignment Opearators"
   ]
  },
  {
   "cell_type": "code",
   "execution_count": 2,
   "id": "4a9ad87e",
   "metadata": {},
   "outputs": [
    {
     "name": "stdout",
     "output_type": "stream",
     "text": [
      "1.0\n",
      "1.0\n",
      "0.0\n",
      "0.0\n",
      "30\n",
      "50\n",
      "100\n"
     ]
    }
   ],
   "source": [
    "\n",
    "#/=\n",
    "x=5\n",
    "#result=\n",
    "x/=5\n",
    "print(x)\n",
    "\n",
    "x%=5\n",
    "print(x)\n",
    "x//=2\n",
    "print(x)\n",
    "x**=5\n",
    "print(x)\n",
    "num3=num1+num2\n",
    "print(num3)\n",
    "num3=num3+num2\n",
    "print(num3)\n",
    "num3+=num3\n",
    "print(num3)"
   ]
  },
  {
   "cell_type": "markdown",
   "id": "98cbf5ab-703f-42a5-867e-8d21bd6a14b0",
   "metadata": {},
   "source": [
    "# comparision opearots"
   ]
  },
  {
   "cell_type": "code",
   "execution_count": 7,
   "id": "9d664654",
   "metadata": {},
   "outputs": [
    {
     "name": "stdout",
     "output_type": "stream",
     "text": [
      "Is num3 > num 2 ? True\n",
      "Is num 2=num3 False\n",
      "num1!=num2 True\n"
     ]
    }
   ],
   "source": [
    "print(\"Is num3 > num 2 ?\",num3>num2)\n",
    "print(\"Is num 2=num3\",num2==num3)\n",
    "print(\"num1!=num2\",num1!=num2)\n"
   ]
  },
  {
   "cell_type": "markdown",
   "id": "d3ff31e1-fc87-4f4b-9c36-9ae456f5d1f3",
   "metadata": {},
   "source": [
    "Logical operators\n",
    "#and \n",
    "#or\n",
    "#not"
   ]
  },
  {
   "cell_type": "code",
   "execution_count": 11,
   "id": "a56a1c1b",
   "metadata": {},
   "outputs": [
    {
     "name": "stdout",
     "output_type": "stream",
     "text": [
      "X and Y False\n",
      "X or Y True\n",
      "not of x False\n"
     ]
    }
   ],
   "source": [
    "x=True# reserved Keywords(used by python system and had reserved value 1) so first \n",
    "y=False#(reserved value 0)\n",
    "print(\"X and Y\",x and y)\n",
    "print(\"X or Y\",x or y)\n",
    "print(\"not of x\",not x)"
   ]
  },
  {
   "cell_type": "markdown",
   "id": "55898b5a-2a16-49b1-81fb-73c09ab47787",
   "metadata": {},
   "source": [
    "#Bitwise opeartor"
   ]
  },
  {
   "cell_type": "code",
   "execution_count": 13,
   "id": "bef2501e",
   "metadata": {},
   "outputs": [
    {
     "name": "stdout",
     "output_type": "stream",
     "text": [
      "Bitwise And= 2\n",
      "bitwise or= 6\n",
      "Bitwise Xor= 4\n",
      "num4 right shift by 2 position 1\n",
      "num5 left shift by 2 position 8\n"
     ]
    }
   ],
   "source": [
    "num4=6#110\n",
    "num5=2#010\n",
    "print(\"Bitwise And=\",num4&num5)\n",
    "print(\"bitwise or=\",num4|num5)\n",
    "print(\"Bitwise Xor=\",num4^num5)# get 0 if both bits are same\n",
    "print(\"num4 right shift by 2 position\",num4>>2)\n",
    "print(\"num5 left shift by 2 position\",num5<<2)"
   ]
  },
  {
   "cell_type": "markdown",
   "id": "2966ddd2-42a4-41b7-827a-d5574e069c56",
   "metadata": {},
   "source": [
    "# Identity opearaor"
   ]
  },
  {
   "cell_type": "code",
   "execution_count": 17,
   "id": "5dce0971",
   "metadata": {},
   "outputs": [
    {
     "name": "stdout",
     "output_type": "stream",
     "text": [
      "what is x True\n",
      "what is x False\n"
     ]
    },
    {
     "name": "stderr",
     "output_type": "stream",
     "text": [
      "<>:2: SyntaxWarning: \"is\" with a literal. Did you mean \"==\"?\n",
      "<>:3: SyntaxWarning: \"is not\" with a literal. Did you mean \"!=\"?\n",
      "<>:2: SyntaxWarning: \"is\" with a literal. Did you mean \"==\"?\n",
      "<>:3: SyntaxWarning: \"is not\" with a literal. Did you mean \"!=\"?\n",
      "<ipython-input-17-96d80de5fdd5>:2: SyntaxWarning: \"is\" with a literal. Did you mean \"==\"?\n",
      "  print(\"what is x\",x is 5)\n",
      "<ipython-input-17-96d80de5fdd5>:3: SyntaxWarning: \"is not\" with a literal. Did you mean \"!=\"?\n",
      "  print(\"what is x\",x is not 5)\n"
     ]
    }
   ],
   "source": [
    "x=5\n",
    "print(\"what is x\",x is 5)\n",
    "print(\"what is x\",x is not 5)"
   ]
  },
  {
   "cell_type": "markdown",
   "id": "eacfe6a3-a9f6-45ec-814d-7cb351b1ab4b",
   "metadata": {},
   "source": [
    "Membership Opeartors"
   ]
  },
  {
   "cell_type": "code",
   "execution_count": 18,
   "id": "ed6cf0b2-64a1-4f3d-9d1f-0c95e7f5228d",
   "metadata": {},
   "outputs": [],
   "source": [
    "#in,not in\n"
   ]
  },
  {
   "cell_type": "code",
   "execution_count": 20,
   "id": "86ad76e8-b296-4165-9ef5-ca6b4506b782",
   "metadata": {},
   "outputs": [
    {
     "name": "stdout",
     "output_type": "stream",
     "text": [
      "True\n",
      "False\n"
     ]
    }
   ],
   "source": [
    "x=[1,2,3,4]\n",
    "print(3 in x)\n",
    "print(3 not in x)"
   ]
  },
  {
   "cell_type": "markdown",
   "id": "d3189fcc-15bf-4597-87bd-bc4992cdb0d0",
   "metadata": {},
   "source": [
    "DataTYpes:\n",
    "Immutable and Mutable\n",
    "Immutable=>number,String,Tuple\n",
    "Mutable=>list,dictionay,set"
   ]
  },
  {
   "cell_type": "markdown",
   "id": "ac81a2c8-682a-46ef-8acb-a9683fe97555",
   "metadata": {},
   "source": [
    "String Opearations"
   ]
  },
  {
   "cell_type": "code",
   "execution_count": 29,
   "id": "633451f4-0029-4332-93b7-68acb6c1523a",
   "metadata": {},
   "outputs": [
    {
     "name": "stdout",
     "output_type": "stream",
     "text": [
      "pythontutorials\n",
      "tutorialstutorialstutorials\n",
      "t\n",
      "ori\n",
      "tut\n",
      "o\n",
      "a\n",
      "tori\n",
      "1\n",
      "0\n",
      "4\n",
      "True\n"
     ]
    }
   ],
   "source": [
    "string1=\"python\"\n",
    "string2=\"tutorials\"\n",
    "print(string1+string2)\n",
    "print(string2*3)\n",
    "print(string2[2])\n",
    "print(string2[3:6])\n",
    "print(string2[:3])\n",
    "print(string2[3])\n",
    "print(string2[-3])\n",
    "print(string2[2:-3])\n",
    "print(string1.count(\"p\",0,5))\n",
    "print(string1.count(\"P\",0,5))# case sensitive\n",
    "print(string1.find('on'))\n",
    "print(string1.isalpha())\n",
    "\n",
    "\n",
    "\n"
   ]
  },
  {
   "cell_type": "markdown",
   "id": "6bdcd0a6-14de-42ba-9cb0-bc55287a8274",
   "metadata": {},
   "source": [
    "#Tuples"
   ]
  },
  {
   "cell_type": "markdown",
   "id": "8917e2a2-cca9-4d22-9966-c47e4841b43d",
   "metadata": {},
   "source": [
    "mytuple=('Edureka',2.4,5,'Python')# similar to list but not change"
   ]
  },
  {
   "cell_type": "code",
   "execution_count": 37,
   "id": "3f626b11-6fb2-459b-99cd-0e2729c0c632",
   "metadata": {},
   "outputs": [
    {
     "name": "stdout",
     "output_type": "stream",
     "text": [
      "('neel', 'Raj', 'Sandeep', 'Divya')\n",
      "('neel', 'Raj', 'Sandeep', 'Divya', 'menka', 'Sanjay')\n",
      "('neel', 'Raj', 'Sandeep', 'Divya', 'neel', 'Raj', 'Sandeep', 'Divya', 'neel', 'Raj', 'Sandeep', 'Divya')\n",
      "Divya\n",
      "('Raj', 'Sandeep', 'Divya')\n",
      "2\n"
     ]
    }
   ],
   "source": [
    "my_tup=('neel','Raj','Sandeep','Divya')\n",
    "print(my_tup)\n",
    "# concattenation\n",
    "print(my_tup+('menka','Sanjay'))\n",
    "#repition\n",
    "print(my_tup*3)\n",
    "print(my_tup[-1])\n",
    "print(my_tup[1:5])\n",
    "print(my_tup.index('Sandeep'))"
   ]
  },
  {
   "cell_type": "markdown",
   "id": "8a4c5de9-edbe-4d5f-ae31-dfe09f98823e",
   "metadata": {},
   "source": [
    "lists"
   ]
  },
  {
   "cell_type": "code",
   "execution_count": 38,
   "id": "058f4cc1-d51e-4c5d-ba52-4005e85850dd",
   "metadata": {},
   "outputs": [],
   "source": [
    "myList=['Edureka',2.4,5,'Python']"
   ]
  },
  {
   "cell_type": "code",
   "execution_count": 53,
   "id": "8a92d3ff-9231-4519-bbd7-2394ce03ebc3",
   "metadata": {},
   "outputs": [
    {
     "name": "stdout",
     "output_type": "stream",
     "text": [
      "['Green', 'Red', 'Blue', 'Yellow', 'Pink', 'd']\n",
      "['Green', 'Red', 'Blue', 'Yellow', 'Pink', 'Green', 'Red', 'Blue', 'Yellow', 'Pink', 'Green', 'Red', 'Blue', 'Yellow', 'Pink']\n",
      "['Red', 'Blue']\n",
      "Green\n",
      "None\n",
      "['Green', 'Red', 'Blue', 'Yellow', 'Pink', 'd']\n",
      "['Green', 'Red', 'Blue', 'Yellow', 'Pink', 'd', 'menka', 'Jagdish']\n",
      "['Green', 'Red', 'b', 'Blue', 'Yellow', 'Pink', 'd', 'menka', 'Jagdish']\n",
      "['Green', 'Red', 'Blue', 'Yellow', 'Pink', 'd', 'menka', 'Jagdish']\n",
      "6\n",
      "Jagdish\n",
      "['Green', 'Red', 'Blue', 'Yellow', 'Pink', 'd']\n"
     ]
    }
   ],
   "source": [
    "my_list=['Green','Red','Blue','Yellow','Pink']\n",
    "#concatenation\n",
    "print(my_list+['d'])# not making changes in original list\n",
    "#repetition\n",
    "print(my_list*3)\n",
    "# Slicing\n",
    "print(my_list[1:3])\n",
    "#indexing\n",
    "print(my_list[0])\n",
    "#Type_Specific Opearation\n",
    "print(my_list.append('d'))# Appending and making changes in original string itself\n",
    "print(my_list)\n",
    "my_list.extend(['menka','Jagdish'])\n",
    "print(my_list)\n",
    "my_list.insert(2,'b')\n",
    "print(my_list)\n",
    "my_list.remove('b')\n",
    "print(my_list)\n",
    "print(my_list.index('menka'))\n",
    "print(my_list.pop())# it remove last element by default and return it\n",
    "my_list.remove('menka')\n",
    "print(my_list)"
   ]
  },
  {
   "cell_type": "markdown",
   "id": "b6e55297-f9e9-41f4-b0ac-a8558f391ef2",
   "metadata": {},
   "source": [
    "# Dictionary:Most Flexible data type in Python"
   ]
  },
  {
   "cell_type": "code",
   "execution_count": null,
   "id": "a4ef8165-1691-430a-bfca-6d211d42ff7c",
   "metadata": {},
   "outputs": [],
   "source": [
    "# Types of Dictionary that we have\n",
    "#1)myDict={}\n",
    "#2)Dictionary with integer values:myDict={1:'apple',2:'ball'}\n",
    "#3)Dictionary with Mixed Keys:myDict={'name':'John',1:[2,3,4]}\n",
    "#4)from sequence j=ahving each item asa pair myDict=dict([(1,'apple'),(2,'Mango')])"
   ]
  },
  {
   "cell_type": "code",
   "execution_count": 56,
   "id": "3ea01c14-472e-4b3d-a8bc-6cf1e154db66",
   "metadata": {},
   "outputs": [
    {
     "name": "stdout",
     "output_type": "stream",
     "text": [
      "{1: 'Green', 2: 'Grey', 3: 'Red'}\n"
     ]
    }
   ],
   "source": [
    "my_dict={1:'Green',2:'Blue',3:'Red',2:'Grey'}\n",
    "print(my_dict)\n",
    "# Duplicate keys are note allowed\n",
    "# Even if we have duplicate keys,thwn we with recent value will retain"
   ]
  },
  {
   "cell_type": "code",
   "execution_count": 67,
   "id": "198861a1-a6c7-42e5-9a4b-9ebea29e2502",
   "metadata": {},
   "outputs": [
    {
     "name": "stdout",
     "output_type": "stream",
     "text": [
      "Red\n",
      "4\n",
      "dict_keys([1, 2, 3, 4])\n",
      "dict_values(['Green', 'Grey', 'Red', 'White'])\n",
      "dict_items([(1, 'Green'), (2, 'Grey'), (3, 'Red'), (4, 'White')])\n",
      "Green\n",
      "Grey\n",
      "{1: 'Green', 2: 'Grey', 3: 'Red', 4: 'White'}\n",
      "{1: 'Green', 2: 'Grey', 3: 'Red', 4: 'menka'}\n"
     ]
    }
   ],
   "source": [
    "# accessing dictionary\n",
    "print(my_dict[3])\n",
    "#length\n",
    "print(len(my_dict))# prints count of key,Value pairs combination\n",
    "print(my_dict.keys())\n",
    "print(my_dict.values())\n",
    "print(my_dict.items())\n",
    "print(my_dict.get(1))\n",
    "print(my_dict.get(2))\n",
    "my_dict.update({4:\"White\"})\n",
    "print(my_dict)\n",
    "my_dict.update({4:\"menka\"})\n",
    "print(my_dict)\n",
    "\n",
    "\n",
    "\n"
   ]
  },
  {
   "cell_type": "code",
   "execution_count": 69,
   "id": "710c090d-92e0-4e95-a799-fa5d8fa87d52",
   "metadata": {},
   "outputs": [
    {
     "name": "stdout",
     "output_type": "stream",
     "text": [
      "{1, 2, 5, 7, 8, 10}\n"
     ]
    }
   ],
   "source": [
    "# sets:unordered collection oditem,no duplicate values\n",
    "my_set={1,2,5,7,5,10,8,2,1}\n",
    "print(my_set)# not take duplicate values\n",
    "#operations\n",
    "#Union\n",
    "#Intersection\n",
    "#Difference\n",
    "\n"
   ]
  },
  {
   "cell_type": "code",
   "execution_count": 73,
   "id": "ed1424e9-5eab-452e-a6d4-3f3715d68964",
   "metadata": {},
   "outputs": [
    {
     "name": "stdout",
     "output_type": "stream",
     "text": [
      "{1, 2, 'c', 'b'}\n",
      "{1, 'c'}\n",
      "{2}\n",
      "{'b'}\n"
     ]
    }
   ],
   "source": [
    "#Union# Dont take duplicate values\n",
    "s1={1,2,'c'}\n",
    "s2={1,'b','c'}\n",
    "print(\"Union\",s1|s2)\n",
    "#Intersection\n",
    "print(\"Intersection\",s1&s2)# take only common values\n",
    "# Difference\n",
    "print(s1-s2)\n",
    "print(s2-s1)"
   ]
  },
  {
   "cell_type": "code",
   "execution_count": null,
   "id": "9d69a243-3613-4492-97e7-9cb58d74c69f",
   "metadata": {},
   "outputs": [],
   "source": [
    "# Flow Control\n",
    "if\n",
    "if else\n",
    "if elif  else\n",
    "for\n",
    "while\n",
    "break\n",
    "continue\n"
   ]
  },
  {
   "cell_type": "code",
   "execution_count": 74,
   "id": "8ac9a726-a598-4aa1-92ad-e63386c31d6c",
   "metadata": {},
   "outputs": [
    {
     "name": "stdout",
     "output_type": "stream",
     "text": [
      "Grade B\n"
     ]
    }
   ],
   "source": [
    "marks=75\n",
    "if(marks>80):\n",
    "    print(\"Grade A\")\n",
    "elif(marks>60) and (marks<=80):\n",
    "    print(\"Grade B\")\n",
    "elif(marks>40) and (marks<=60):\n",
    "    print(\"Grade c\")\n",
    "else:\n",
    "    print(\"Grade D\")\n",
    "\n"
   ]
  },
  {
   "cell_type": "markdown",
   "id": "86629794-d164-4db4-9d2b-cd52282a5706",
   "metadata": {},
   "source": [
    "while"
   ]
  },
  {
   "cell_type": "code",
   "execution_count": 75,
   "id": "60ec5548-ff6c-4282-8099-6c7713a164c2",
   "metadata": {},
   "outputs": [],
   "source": [
    "# while and for loops\n",
    "#Use for loop when we are aware of the how may times we have to execute the statement\n",
    "# use while loop if we dont know number of times we have execute statements\n"
   ]
  },
  {
   "cell_type": "code",
   "execution_count": 78,
   "id": "976e02e4-3662-4f66-bfb9-ffb6a7ea3a48",
   "metadata": {},
   "outputs": [
    {
     "name": "stdin",
     "output_type": "stream",
     "text": [
      "Enter the value of n= 5\n"
     ]
    },
    {
     "name": "stdout",
     "output_type": "stream",
     "text": [
      "15\n"
     ]
    }
   ],
   "source": [
    "num=int(input(\"Enter the value of n=\"))\n",
    "if(num<=0):\n",
    "    print(\"Enter the valid value\")\n",
    "else:\n",
    "    sum=0\n",
    "    while(num>0):\n",
    "        sum+=num\n",
    "        num-=1\n",
    "print(sum)\n"
   ]
  },
  {
   "cell_type": "code",
   "execution_count": 82,
   "id": "e2fba50d-c725-47bb-9ace-a60a86f2bd59",
   "metadata": {},
   "outputs": [
    {
     "name": "stdout",
     "output_type": "stream",
     "text": [
      "99 Bottles of bear on the wall 99 bottles of bear\n",
      "Take one down and pass it around 99bottles of bear on the wall\n",
      "--------\n",
      "98 Bottles of bear on the wall 98 bottles of bear\n",
      "Take one down and pass it around 98bottles of bear on the wall\n",
      "--------\n",
      "97 Bottles of bear on the wall 97 bottles of bear\n",
      "Take one down and pass it around 97bottles of bear on the wall\n",
      "--------\n",
      "96 Bottles of bear on the wall 96 bottles of bear\n",
      "Take one down and pass it around 96bottles of bear on the wall\n",
      "--------\n",
      "95 Bottles of bear on the wall 95 bottles of bear\n",
      "Take one down and pass it around 95bottles of bear on the wall\n",
      "--------\n",
      "94 Bottles of bear on the wall 94 bottles of bear\n",
      "Take one down and pass it around 94bottles of bear on the wall\n",
      "--------\n",
      "93 Bottles of bear on the wall 93 bottles of bear\n",
      "Take one down and pass it around 93bottles of bear on the wall\n",
      "--------\n",
      "92 Bottles of bear on the wall 92 bottles of bear\n",
      "Take one down and pass it around 92bottles of bear on the wall\n",
      "--------\n",
      "91 Bottles of bear on the wall 91 bottles of bear\n",
      "Take one down and pass it around 91bottles of bear on the wall\n",
      "--------\n",
      "90 Bottles of bear on the wall 90 bottles of bear\n",
      "Take one down and pass it around 90bottles of bear on the wall\n",
      "--------\n",
      "89 Bottles of bear on the wall 89 bottles of bear\n",
      "Take one down and pass it around 89bottles of bear on the wall\n",
      "--------\n",
      "88 Bottles of bear on the wall 88 bottles of bear\n",
      "Take one down and pass it around 88bottles of bear on the wall\n",
      "--------\n",
      "87 Bottles of bear on the wall 87 bottles of bear\n",
      "Take one down and pass it around 87bottles of bear on the wall\n",
      "--------\n",
      "86 Bottles of bear on the wall 86 bottles of bear\n",
      "Take one down and pass it around 86bottles of bear on the wall\n",
      "--------\n",
      "85 Bottles of bear on the wall 85 bottles of bear\n",
      "Take one down and pass it around 85bottles of bear on the wall\n",
      "--------\n",
      "84 Bottles of bear on the wall 84 bottles of bear\n",
      "Take one down and pass it around 84bottles of bear on the wall\n",
      "--------\n",
      "83 Bottles of bear on the wall 83 bottles of bear\n",
      "Take one down and pass it around 83bottles of bear on the wall\n",
      "--------\n",
      "82 Bottles of bear on the wall 82 bottles of bear\n",
      "Take one down and pass it around 82bottles of bear on the wall\n",
      "--------\n",
      "81 Bottles of bear on the wall 81 bottles of bear\n",
      "Take one down and pass it around 81bottles of bear on the wall\n",
      "--------\n",
      "80 Bottles of bear on the wall 80 bottles of bear\n",
      "Take one down and pass it around 80bottles of bear on the wall\n",
      "--------\n",
      "79 Bottles of bear on the wall 79 bottles of bear\n",
      "Take one down and pass it around 79bottles of bear on the wall\n",
      "--------\n",
      "78 Bottles of bear on the wall 78 bottles of bear\n",
      "Take one down and pass it around 78bottles of bear on the wall\n",
      "--------\n",
      "77 Bottles of bear on the wall 77 bottles of bear\n",
      "Take one down and pass it around 77bottles of bear on the wall\n",
      "--------\n",
      "76 Bottles of bear on the wall 76 bottles of bear\n",
      "Take one down and pass it around 76bottles of bear on the wall\n",
      "--------\n",
      "75 Bottles of bear on the wall 75 bottles of bear\n",
      "Take one down and pass it around 75bottles of bear on the wall\n",
      "--------\n",
      "74 Bottles of bear on the wall 74 bottles of bear\n",
      "Take one down and pass it around 74bottles of bear on the wall\n",
      "--------\n",
      "73 Bottles of bear on the wall 73 bottles of bear\n",
      "Take one down and pass it around 73bottles of bear on the wall\n",
      "--------\n",
      "72 Bottles of bear on the wall 72 bottles of bear\n",
      "Take one down and pass it around 72bottles of bear on the wall\n",
      "--------\n",
      "71 Bottles of bear on the wall 71 bottles of bear\n",
      "Take one down and pass it around 71bottles of bear on the wall\n",
      "--------\n",
      "70 Bottles of bear on the wall 70 bottles of bear\n",
      "Take one down and pass it around 70bottles of bear on the wall\n",
      "--------\n",
      "69 Bottles of bear on the wall 69 bottles of bear\n",
      "Take one down and pass it around 69bottles of bear on the wall\n",
      "--------\n",
      "68 Bottles of bear on the wall 68 bottles of bear\n",
      "Take one down and pass it around 68bottles of bear on the wall\n",
      "--------\n",
      "67 Bottles of bear on the wall 67 bottles of bear\n",
      "Take one down and pass it around 67bottles of bear on the wall\n",
      "--------\n",
      "66 Bottles of bear on the wall 66 bottles of bear\n",
      "Take one down and pass it around 66bottles of bear on the wall\n",
      "--------\n",
      "65 Bottles of bear on the wall 65 bottles of bear\n",
      "Take one down and pass it around 65bottles of bear on the wall\n",
      "--------\n",
      "64 Bottles of bear on the wall 64 bottles of bear\n",
      "Take one down and pass it around 64bottles of bear on the wall\n",
      "--------\n",
      "63 Bottles of bear on the wall 63 bottles of bear\n",
      "Take one down and pass it around 63bottles of bear on the wall\n",
      "--------\n",
      "62 Bottles of bear on the wall 62 bottles of bear\n",
      "Take one down and pass it around 62bottles of bear on the wall\n",
      "--------\n",
      "61 Bottles of bear on the wall 61 bottles of bear\n",
      "Take one down and pass it around 61bottles of bear on the wall\n",
      "--------\n",
      "60 Bottles of bear on the wall 60 bottles of bear\n",
      "Take one down and pass it around 60bottles of bear on the wall\n",
      "--------\n",
      "59 Bottles of bear on the wall 59 bottles of bear\n",
      "Take one down and pass it around 59bottles of bear on the wall\n",
      "--------\n",
      "58 Bottles of bear on the wall 58 bottles of bear\n",
      "Take one down and pass it around 58bottles of bear on the wall\n",
      "--------\n",
      "57 Bottles of bear on the wall 57 bottles of bear\n",
      "Take one down and pass it around 57bottles of bear on the wall\n",
      "--------\n",
      "56 Bottles of bear on the wall 56 bottles of bear\n",
      "Take one down and pass it around 56bottles of bear on the wall\n",
      "--------\n",
      "55 Bottles of bear on the wall 55 bottles of bear\n",
      "Take one down and pass it around 55bottles of bear on the wall\n",
      "--------\n",
      "54 Bottles of bear on the wall 54 bottles of bear\n",
      "Take one down and pass it around 54bottles of bear on the wall\n",
      "--------\n",
      "53 Bottles of bear on the wall 53 bottles of bear\n",
      "Take one down and pass it around 53bottles of bear on the wall\n",
      "--------\n",
      "52 Bottles of bear on the wall 52 bottles of bear\n",
      "Take one down and pass it around 52bottles of bear on the wall\n",
      "--------\n",
      "51 Bottles of bear on the wall 51 bottles of bear\n",
      "Take one down and pass it around 51bottles of bear on the wall\n",
      "--------\n",
      "50 Bottles of bear on the wall 50 bottles of bear\n",
      "Take one down and pass it around 50bottles of bear on the wall\n",
      "--------\n",
      "49 Bottles of bear on the wall 49 bottles of bear\n",
      "Take one down and pass it around 49bottles of bear on the wall\n",
      "--------\n",
      "48 Bottles of bear on the wall 48 bottles of bear\n",
      "Take one down and pass it around 48bottles of bear on the wall\n",
      "--------\n",
      "47 Bottles of bear on the wall 47 bottles of bear\n",
      "Take one down and pass it around 47bottles of bear on the wall\n",
      "--------\n",
      "46 Bottles of bear on the wall 46 bottles of bear\n",
      "Take one down and pass it around 46bottles of bear on the wall\n",
      "--------\n",
      "45 Bottles of bear on the wall 45 bottles of bear\n",
      "Take one down and pass it around 45bottles of bear on the wall\n",
      "--------\n",
      "44 Bottles of bear on the wall 44 bottles of bear\n",
      "Take one down and pass it around 44bottles of bear on the wall\n",
      "--------\n",
      "43 Bottles of bear on the wall 43 bottles of bear\n",
      "Take one down and pass it around 43bottles of bear on the wall\n",
      "--------\n",
      "42 Bottles of bear on the wall 42 bottles of bear\n",
      "Take one down and pass it around 42bottles of bear on the wall\n",
      "--------\n",
      "41 Bottles of bear on the wall 41 bottles of bear\n",
      "Take one down and pass it around 41bottles of bear on the wall\n",
      "--------\n",
      "40 Bottles of bear on the wall 40 bottles of bear\n",
      "Take one down and pass it around 40bottles of bear on the wall\n",
      "--------\n",
      "39 Bottles of bear on the wall 39 bottles of bear\n",
      "Take one down and pass it around 39bottles of bear on the wall\n",
      "--------\n",
      "38 Bottles of bear on the wall 38 bottles of bear\n",
      "Take one down and pass it around 38bottles of bear on the wall\n",
      "--------\n",
      "37 Bottles of bear on the wall 37 bottles of bear\n",
      "Take one down and pass it around 37bottles of bear on the wall\n",
      "--------\n",
      "36 Bottles of bear on the wall 36 bottles of bear\n",
      "Take one down and pass it around 36bottles of bear on the wall\n",
      "--------\n",
      "35 Bottles of bear on the wall 35 bottles of bear\n",
      "Take one down and pass it around 35bottles of bear on the wall\n",
      "--------\n",
      "34 Bottles of bear on the wall 34 bottles of bear\n",
      "Take one down and pass it around 34bottles of bear on the wall\n",
      "--------\n",
      "33 Bottles of bear on the wall 33 bottles of bear\n",
      "Take one down and pass it around 33bottles of bear on the wall\n",
      "--------\n",
      "32 Bottles of bear on the wall 32 bottles of bear\n",
      "Take one down and pass it around 32bottles of bear on the wall\n",
      "--------\n",
      "31 Bottles of bear on the wall 31 bottles of bear\n",
      "Take one down and pass it around 31bottles of bear on the wall\n",
      "--------\n",
      "30 Bottles of bear on the wall 30 bottles of bear\n",
      "Take one down and pass it around 30bottles of bear on the wall\n",
      "--------\n",
      "29 Bottles of bear on the wall 29 bottles of bear\n",
      "Take one down and pass it around 29bottles of bear on the wall\n",
      "--------\n",
      "28 Bottles of bear on the wall 28 bottles of bear\n",
      "Take one down and pass it around 28bottles of bear on the wall\n",
      "--------\n",
      "27 Bottles of bear on the wall 27 bottles of bear\n",
      "Take one down and pass it around 27bottles of bear on the wall\n",
      "--------\n",
      "26 Bottles of bear on the wall 26 bottles of bear\n",
      "Take one down and pass it around 26bottles of bear on the wall\n",
      "--------\n",
      "25 Bottles of bear on the wall 25 bottles of bear\n",
      "Take one down and pass it around 25bottles of bear on the wall\n",
      "--------\n",
      "24 Bottles of bear on the wall 24 bottles of bear\n",
      "Take one down and pass it around 24bottles of bear on the wall\n",
      "--------\n",
      "23 Bottles of bear on the wall 23 bottles of bear\n",
      "Take one down and pass it around 23bottles of bear on the wall\n",
      "--------\n",
      "22 Bottles of bear on the wall 22 bottles of bear\n",
      "Take one down and pass it around 22bottles of bear on the wall\n",
      "--------\n",
      "21 Bottles of bear on the wall 21 bottles of bear\n",
      "Take one down and pass it around 21bottles of bear on the wall\n",
      "--------\n",
      "20 Bottles of bear on the wall 20 bottles of bear\n",
      "Take one down and pass it around 20bottles of bear on the wall\n",
      "--------\n",
      "19 Bottles of bear on the wall 19 bottles of bear\n",
      "Take one down and pass it around 19bottles of bear on the wall\n",
      "--------\n",
      "18 Bottles of bear on the wall 18 bottles of bear\n",
      "Take one down and pass it around 18bottles of bear on the wall\n",
      "--------\n",
      "17 Bottles of bear on the wall 17 bottles of bear\n",
      "Take one down and pass it around 17bottles of bear on the wall\n",
      "--------\n",
      "16 Bottles of bear on the wall 16 bottles of bear\n",
      "Take one down and pass it around 16bottles of bear on the wall\n",
      "--------\n",
      "15 Bottles of bear on the wall 15 bottles of bear\n",
      "Take one down and pass it around 15bottles of bear on the wall\n",
      "--------\n",
      "14 Bottles of bear on the wall 14 bottles of bear\n",
      "Take one down and pass it around 14bottles of bear on the wall\n",
      "--------\n",
      "13 Bottles of bear on the wall 13 bottles of bear\n",
      "Take one down and pass it around 13bottles of bear on the wall\n",
      "--------\n",
      "12 Bottles of bear on the wall 12 bottles of bear\n",
      "Take one down and pass it around 12bottles of bear on the wall\n",
      "--------\n",
      "11 Bottles of bear on the wall 11 bottles of bear\n",
      "Take one down and pass it around 11bottles of bear on the wall\n",
      "--------\n",
      "10 Bottles of bear on the wall 10 bottles of bear\n",
      "Take one down and pass it around 10bottles of bear on the wall\n",
      "--------\n",
      "9 Bottles of bear on the wall 9 bottles of bear\n",
      "Take one down and pass it around 9bottles of bear on the wall\n",
      "--------\n",
      "8 Bottles of bear on the wall 8 bottles of bear\n",
      "Take one down and pass it around 8bottles of bear on the wall\n",
      "--------\n",
      "7 Bottles of bear on the wall 7 bottles of bear\n",
      "Take one down and pass it around 7bottles of bear on the wall\n",
      "--------\n",
      "6 Bottles of bear on the wall 6 bottles of bear\n",
      "Take one down and pass it around 6bottles of bear on the wall\n",
      "--------\n",
      "5 Bottles of bear on the wall 5 bottles of bear\n",
      "Take one down and pass it around 5bottles of bear on the wall\n",
      "--------\n",
      "4 Bottles of bear on the wall 4 bottles of bear\n",
      "Take one down and pass it around 4bottles of bear on the wall\n",
      "--------\n",
      "3 Bottles of bear on the wall 3 bottles of bear\n",
      "Take one down and pass it around 3bottles of bear on the wall\n",
      "--------\n",
      "2 Bottles of bear on the wall 2 bottles of bear\n",
      "Take one down and pass it around 1 bottle of bear on the wall\n",
      "--------\n",
      "1 bottle of bear on the wall,1 bottle of bear\n",
      "Take one down and pass it around No more beer on the wall\n",
      "--------\n"
     ]
    }
   ],
   "source": [
    "# for loop\n",
    "for  quant in range(99,0,-1):\n",
    "    if quant>1:\n",
    "        print(quant,\"Bottles of bear on the wall\",quant,\"bottles of bear\")\n",
    "        if quant>2:\n",
    "            suffix=str(quant)+\"bottles of bear on the wall\"\n",
    "        else:\n",
    "            suffix=\"1 bottle of bear on the wall\"\n",
    "    elif quant==1:\n",
    "        print(\"1 bottle of bear on the wall,1 bottle of bear\")\n",
    "        suffix=\"No more beer on the wall\"\n",
    "        \n",
    "    print(\"Take one down and pass it around\",suffix)\n",
    "    print(\"--------\")\n",
    "    "
   ]
  },
  {
   "cell_type": "markdown",
   "id": "8fa4596e-1874-4289-9455-c84ff97f6791",
   "metadata": {},
   "source": [
    "# Break statement"
   ]
  },
  {
   "cell_type": "code",
   "execution_count": 83,
   "id": "3791e2ce-36e7-4147-8094-7e6f80408f2f",
   "metadata": {},
   "outputs": [
    {
     "name": "stdout",
     "output_type": "stream",
     "text": [
      "0\n",
      "1\n",
      "2\n",
      "3\n",
      "4\n",
      "5\n",
      "6\n",
      "7\n",
      "8\n",
      "9\n",
      "10\n"
     ]
    }
   ],
   "source": [
    "count=0\n",
    "while True:\n",
    "    print(count)\n",
    "    count+=1\n",
    "    if(count>10):\n",
    "        break\n",
    "    "
   ]
  },
  {
   "cell_type": "markdown",
   "id": "53e19eb0-5d47-4587-b59d-e0f3e65c6373",
   "metadata": {},
   "source": [
    "# continue"
   ]
  },
  {
   "cell_type": "code",
   "execution_count": 84,
   "id": "82750984-e54c-4378-a666-680ba9380db4",
   "metadata": {},
   "outputs": [
    {
     "name": "stdout",
     "output_type": "stream",
     "text": [
      "1\n",
      "3\n",
      "5\n",
      "7\n",
      "9\n",
      "11\n",
      "13\n",
      "15\n",
      "17\n",
      "19\n"
     ]
    }
   ],
   "source": [
    " for x in range(20):\n",
    "        if (x%2)==0:\n",
    "            continue\n",
    "        print(x)"
   ]
  },
  {
   "cell_type": "markdown",
   "id": "a28e9d40-d20d-4aa7-9e1a-354c0a1c9c27",
   "metadata": {},
   "source": [
    "# functions\n",
    "1)userName functions\n",
    "2) Predefined Functions\n"
   ]
  },
  {
   "cell_type": "code",
   "execution_count": 85,
   "id": "98c115ef-953d-40a0-8dab-03795342da56",
   "metadata": {},
   "outputs": [
    {
     "name": "stdout",
     "output_type": "stream",
     "text": [
      "3\n"
     ]
    }
   ],
   "source": [
    "def add(a,b):\n",
    "    result=a+b\n",
    "    return result\n",
    "num1=1\n",
    "num2=2\n",
    "print(add(num1,num2))"
   ]
  },
  {
   "cell_type": "code",
   "execution_count": null,
   "id": "b63181b7-da75-4c5b-b295-863d94f131d2",
   "metadata": {},
   "outputs": [],
   "source": [
    "# Function-Pass By Reference:\n",
    "# To go to "
   ]
  },
  {
   "cell_type": "code",
   "execution_count": 87,
   "id": "8c1ac105-d10b-4231-acce-11ea84620649",
   "metadata": {},
   "outputs": [
    {
     "name": "stdin",
     "output_type": "stream",
     "text": [
      "enter the value of n 5\n"
     ]
    },
    {
     "name": "stdout",
     "output_type": "stream",
     "text": [
      "1 \n",
      "\n",
      "2 \n",
      "\n",
      "4 \n",
      "\n",
      "8 \n",
      "\n",
      "16 \n",
      "\n",
      "32\n"
     ]
    }
   ],
   "source": [
    "def fibo(n):\n",
    "    a=0\n",
    "    b=1\n",
    "    for x in range(n):\n",
    "        a=b\n",
    "        b=a+b\n",
    "        print( a,'\\n')\n",
    "    return b\n",
    "num=int(input(\"enter the value of n\"))\n",
    "print(fibo(num))\n",
    "\n"
   ]
  },
  {
   "cell_type": "code",
   "execution_count": 104,
   "id": "17b13002-10cb-48f9-88da-8f32183ae0ba",
   "metadata": {},
   "outputs": [
    {
     "name": "stdout",
     "output_type": "stream",
     "text": [
      "0 , 1,1,2,3,5,8,"
     ]
    }
   ],
   "source": [
    "a=0\n",
    "b=1\n",
    "print(a,\",\",b,end=\",\")\n",
    "for  x in range(5):\n",
    "    c=a+b\n",
    "    print(c,end=',')\n",
    "    a=b\n",
    "    b=c\n",
    "    \n",
    "   \n",
    "    "
   ]
  },
  {
   "cell_type": "code",
   "execution_count": 112,
   "id": "8c787af2-bb7c-405d-996e-4bd1f75fc7fb",
   "metadata": {},
   "outputs": [
    {
     "name": "stdout",
     "output_type": "stream",
     "text": [
      "File Content before Writing:\n",
      "Hello Menka!\n",
      " Python ids Fun\n",
      " Python ids Fun\n",
      " Python ids Fun\n",
      " Python ids Fun\n",
      " Python ids Fun\n",
      " Python ids Fun\n",
      "file content after writing:\n",
      "Hello Menka!\n",
      " Python ids Fun\n",
      " Python ids Fun\n",
      " Python ids Fun\n",
      " Python ids Fun\n",
      " Python ids Fun\n",
      " Python ids Fun\n",
      " Python ids Fun\n"
     ]
    }
   ],
   "source": [
    "file_object=open(\"F:\\menka.txt\",'r+')\n",
    "print(\"File Content before Writing:\")\n",
    "print(file_object.read())\n",
    "file_object.write('\\n Python ids Fun')\n",
    "print(\"file content after writing:\")\n",
    "file_object.seek(0)\n",
    "print(file_object.read())\n",
    "file_object.close()\n"
   ]
  },
  {
   "cell_type": "code",
   "execution_count": 120,
   "id": "284c5c13-844f-4735-85f5-bc99498e842b",
   "metadata": {},
   "outputs": [
    {
     "name": "stdout",
     "output_type": "stream",
     "text": [
      "Python is Fun!!Enjoy itHow are u Menka\n"
     ]
    }
   ],
   "source": [
    "fp=open(\"F:\\\\sample.txt\",'w+')# if file is not available create it and then open it in read/write mode\n",
    "fp.write(\"Python is Fun!!Enjoy it\")\n",
    "fp.write(\"How are u Menka\")\n",
    "fp.seek(0)\n",
    "print(fp.read())\n",
    "fp.close()"
   ]
  },
  {
   "cell_type": "code",
   "execution_count": null,
   "id": "9d0f68fa-7d9e-4c5c-96dd-4a5aa5ea471d",
   "metadata": {},
   "outputs": [],
   "source": []
  }
 ],
 "metadata": {
  "kernelspec": {
   "display_name": "Python 3",
   "language": "python",
   "name": "python3"
  },
  "language_info": {
   "codemirror_mode": {
    "name": "ipython",
    "version": 3
   },
   "file_extension": ".py",
   "mimetype": "text/x-python",
   "name": "python",
   "nbconvert_exporter": "python",
   "pygments_lexer": "ipython3",
   "version": "3.8.8"
  }
 },
 "nbformat": 4,
 "nbformat_minor": 5
}
