{
 "cells": [
  {
   "cell_type": "code",
   "execution_count": null,
   "id": "932bab17-c486-4eee-931d-8e960b30b53d",
   "metadata": {},
   "outputs": [],
   "source": [
    "#Note in python Block does not decide scope of a variable\n",
    "#In blocks what matters is the intendtion"
   ]
  },
  {
   "cell_type": "code",
   "execution_count": 7,
   "id": "c3d5135b-954d-4c2b-bf67-89c042cafa0b",
   "metadata": {},
   "outputs": [
    {
     "name": "stdout",
     "output_type": "stream",
     "text": [
      "The value of x is 20 and Y is 10\n",
      "20\n",
      "z is 100\n"
     ]
    }
   ],
   "source": [
    "x=20\n",
    "y=10\n",
    "if x>y:\n",
    "    print(\"The value of x is {} and Y is {}\".format(x,y))\n",
    "    print(x)\n",
    "    z=100\n",
    "print(\"z is {}\".format(z))"
   ]
  },
  {
   "cell_type": "code",
   "execution_count": 9,
   "id": "55b5dd9e-20cf-4c1e-a576-1dcb35d3a751",
   "metadata": {},
   "outputs": [
    {
     "ename": "NameError",
     "evalue": "name 'z1' is not defined",
     "output_type": "error",
     "traceback": [
      "\u001b[1;31m---------------------------------------------------------------------------\u001b[0m",
      "\u001b[1;31mNameError\u001b[0m                                 Traceback (most recent call last)",
      "\u001b[1;32m<ipython-input-9-11e174bc54e9>\u001b[0m in \u001b[0;36m<module>\u001b[1;34m\u001b[0m\n\u001b[0;32m      5\u001b[0m     \u001b[0mprint\u001b[0m\u001b[1;33m(\u001b[0m\u001b[0mx\u001b[0m\u001b[1;33m)\u001b[0m\u001b[1;33m\u001b[0m\u001b[1;33m\u001b[0m\u001b[0m\n\u001b[0;32m      6\u001b[0m     \u001b[0mz1\u001b[0m\u001b[1;33m=\u001b[0m\u001b[1;36m100\u001b[0m\u001b[1;33m\u001b[0m\u001b[1;33m\u001b[0m\u001b[0m\n\u001b[1;32m----> 7\u001b[1;33m \u001b[0mprint\u001b[0m\u001b[1;33m(\u001b[0m\u001b[1;34m\"z is {}\"\u001b[0m\u001b[1;33m.\u001b[0m\u001b[0mformat\u001b[0m\u001b[1;33m(\u001b[0m\u001b[0mz1\u001b[0m\u001b[1;33m)\u001b[0m\u001b[1;33m)\u001b[0m\u001b[1;33m\u001b[0m\u001b[1;33m\u001b[0m\u001b[0m\n\u001b[0m",
      "\u001b[1;31mNameError\u001b[0m: name 'z1' is not defined"
     ]
    }
   ],
   "source": [
    "# here it gives error as it condition is not true and z doesnt get assignm value\n",
    "x=20\n",
    "y=10\n",
    "if x<y:\n",
    "    print(\"The value of x is {} and Y is {}\".format(x,y))\n",
    "    print(x)\n",
    "    z1=100\n",
    "print(\"z is {}\".format(z1))"
   ]
  },
  {
   "cell_type": "code",
   "execution_count": null,
   "id": "9cbe8ebf-d824-4804-a58e-7fdb67a8cfdf",
   "metadata": {},
   "outputs": [],
   "source": []
  }
 ],
 "metadata": {
  "kernelspec": {
   "display_name": "Python 3",
   "language": "python",
   "name": "python3"
  },
  "language_info": {
   "codemirror_mode": {
    "name": "ipython",
    "version": 3
   },
   "file_extension": ".py",
   "mimetype": "text/x-python",
   "name": "python",
   "nbconvert_exporter": "python",
   "pygments_lexer": "ipython3",
   "version": "3.8.8"
  }
 },
 "nbformat": 4,
 "nbformat_minor": 5
}
