{
 "cells": [
  {
   "cell_type": "code",
   "execution_count": null,
   "id": "932bab17-c486-4eee-931d-8e960b30b53d",
   "metadata": {},
   "outputs": [],
   "source": [
    "#Note in python Block does not decide scope of a variable\n",
    "#In blocks what matters is the intendtion"
   ]
  },
  {
   "cell_type": "code",
   "execution_count": 7,
   "id": "c3d5135b-954d-4c2b-bf67-89c042cafa0b",
   "metadata": {},
   "outputs": [
    {
     "name": "stdout",
     "output_type": "stream",
     "text": [
      "The value of x is 20 and Y is 10\n",
      "20\n",
      "z is 100\n"
     ]
    }
   ],
   "source": [
    "x=20\n",
    "y=10\n",
    "if x>y:\n",
    "    print(\"The value of x is {} and Y is {}\".format(x,y))\n",
    "    print(x)\n",
    "    z=100\n",
    "print(\"z is {}\".format(z))"
   ]
  },
  {
   "cell_type": "code",
   "execution_count": 9,
   "id": "55b5dd9e-20cf-4c1e-a576-1dcb35d3a751",
   "metadata": {},
   "outputs": [
    {
     "ename": "NameError",
     "evalue": "name 'z1' is not defined",
     "output_type": "error",
     "traceback": [
      "\u001b[1;31m---------------------------------------------------------------------------\u001b[0m",
      "\u001b[1;31mNameError\u001b[0m                                 Traceback (most recent call last)",
      "\u001b[1;32m<ipython-input-9-11e174bc54e9>\u001b[0m in \u001b[0;36m<module>\u001b[1;34m\u001b[0m\n\u001b[0;32m      5\u001b[0m     \u001b[0mprint\u001b[0m\u001b[1;33m(\u001b[0m\u001b[0mx\u001b[0m\u001b[1;33m)\u001b[0m\u001b[1;33m\u001b[0m\u001b[1;33m\u001b[0m\u001b[0m\n\u001b[0;32m      6\u001b[0m     \u001b[0mz1\u001b[0m\u001b[1;33m=\u001b[0m\u001b[1;36m100\u001b[0m\u001b[1;33m\u001b[0m\u001b[1;33m\u001b[0m\u001b[0m\n\u001b[1;32m----> 7\u001b[1;33m \u001b[0mprint\u001b[0m\u001b[1;33m(\u001b[0m\u001b[1;34m\"z is {}\"\u001b[0m\u001b[1;33m.\u001b[0m\u001b[0mformat\u001b[0m\u001b[1;33m(\u001b[0m\u001b[0mz1\u001b[0m\u001b[1;33m)\u001b[0m\u001b[1;33m)\u001b[0m\u001b[1;33m\u001b[0m\u001b[1;33m\u001b[0m\u001b[0m\n\u001b[0m",
      "\u001b[1;31mNameError\u001b[0m: name 'z1' is not defined"
     ]
    }
   ],
   "source": [
    "# here it gives error as it condition is not true and z doesnt get assignm value\n",
    "x=20\n",
    "y=10\n",
    "if x<y:\n",
    "    print(\"The value of x is {} and Y is {}\".format(x,y))\n",
    "    print(x)\n",
    "    z1=100\n",
    "print(\"z is {}\".format(z1))"
   ]
  },
  {
   "cell_type": "code",
   "execution_count": 1,
   "id": "9cbe8ebf-d824-4804-a58e-7fdb67a8cfdf",
   "metadata": {},
   "outputs": [
    {
     "name": "stdout",
     "output_type": "stream",
     "text": [
      "Person has age?: True\n",
      "Person has salary?: False\n"
     ]
    }
   ],
   "source": [
    "class Person:\n",
    "    age = 23\n",
    "    name = 'Adam'\n",
    "\n",
    "person = Person()\n",
    "\n",
    "print('Person has age?:', hasattr(person, 'age'))\n",
    "print('Person has salary?:', hasattr(person, 'salary'))"
   ]
  },
  {
   "cell_type": "code",
   "execution_count": 2,
   "id": "3437c70f-9533-4ede-bfa6-5b1990143987",
   "metadata": {},
   "outputs": [
    {
     "name": "stdout",
     "output_type": "stream",
     "text": [
      "20\n"
     ]
    }
   ],
   "source": [
    "number = -20\n",
    "\n",
    "absolute_number = abs(number)\n",
    "print(absolute_number)\n",
    "\n",
    "# Output: 20"
   ]
  },
  {
   "cell_type": "code",
   "execution_count": 3,
   "id": "7dda22ef-6b0b-4243-834a-b80566691e41",
   "metadata": {},
   "outputs": [
    {
     "name": "stdout",
     "output_type": "stream",
     "text": [
      "Absolute value of -20 is: 20\n",
      "Absolute value of -30.33 is: 30.33\n"
     ]
    }
   ],
   "source": [
    "# random integer\n",
    "integer = -20\n",
    "print('Absolute value of -20 is:', abs(integer))\n",
    "\n",
    "#random floating number\n",
    "floating = -30.33\n",
    "print('Absolute value of -30.33 is:', abs(floating))"
   ]
  },
  {
   "cell_type": "code",
   "execution_count": 4,
   "id": "9f3f14db-3112-46a6-a8c1-e4a80c4e12c3",
   "metadata": {},
   "outputs": [
    {
     "name": "stdout",
     "output_type": "stream",
     "text": [
      "Magnitude of 3 - 4j is: 5.0\n"
     ]
    }
   ],
   "source": [
    "# random complex number\n",
    "complex = (3 - 4j)\n",
    "print('Magnitude of 3 - 4j is:', abs(complex))"
   ]
  },
  {
   "cell_type": "code",
   "execution_count": 5,
   "id": "8d922a1e-1899-47aa-b6a1-6081f6a2d1b6",
   "metadata": {},
   "outputs": [
    {
     "name": "stdout",
     "output_type": "stream",
     "text": [
      "True\n"
     ]
    }
   ],
   "source": [
    "boolean_list = ['True', 'False', 'True']\n",
    "\n",
    "# check if any element is true\n",
    "result = any(boolean_list)\n",
    "print(result)\n"
   ]
  },
  {
   "cell_type": "code",
   "execution_count": 6,
   "id": "110eb185-7c2f-47c0-beb4-f7527781c634",
   "metadata": {},
   "outputs": [
    {
     "name": "stdout",
     "output_type": "stream",
     "text": [
      "True\n",
      "False\n",
      "True\n",
      "False\n"
     ]
    }
   ],
   "source": [
    "# True since 1,3 and 4 (at least one) is true\n",
    "l = [1, 3, 4, 0]\n",
    "print(any(l))\n",
    "\n",
    "# False since both are False\n",
    "l = [0, False]\n",
    "print(any(l))\n",
    "\n",
    "# True since 5 is true\n",
    "l = [0, False, 5]\n",
    "print(any(l))\n",
    "\n",
    "# False since iterable is empty\n",
    "l = []\n",
    "print(any(l))"
   ]
  },
  {
   "cell_type": "code",
   "execution_count": 7,
   "id": "493af1a8-a856-4d6b-9e2e-3cefe84af3e7",
   "metadata": {},
   "outputs": [
    {
     "name": "stdout",
     "output_type": "stream",
     "text": [
      "a\n",
      "A\n",
      "Ұ\n"
     ]
    }
   ],
   "source": [
    "print(chr(97))\n",
    "print(chr(65))\n",
    "print(chr(1200))"
   ]
  },
  {
   "cell_type": "code",
   "execution_count": 8,
   "id": "10dd3541-c85b-4ec5-a4c6-27fe2a03857a",
   "metadata": {},
   "outputs": [
    {
     "data": {
      "text/plain": [
       "<generator object simple_generator at 0x000001F852008510>"
      ]
     },
     "execution_count": 8,
     "metadata": {},
     "output_type": "execute_result"
    }
   ],
   "source": [
    "# Function returns a generator when it encounters 'yield'.\n",
    "def simple_generator():\n",
    "    x = 1\n",
    "    yield x\n",
    "    yield x + 1\n",
    "    yield x + 2\n",
    "\n",
    "generator_object = simple_generator()\n",
    "generator_object  # only generator. no code runs. no value gets returned"
   ]
  },
  {
   "cell_type": "code",
   "execution_count": 9,
   "id": "cdf0b58c-f4d5-496a-8154-a6b32bf75bbc",
   "metadata": {},
   "outputs": [
    {
     "name": "stdout",
     "output_type": "stream",
     "text": [
      "1\n",
      "2\n",
      "3\n"
     ]
    }
   ],
   "source": [
    "for i in generator_object:\n",
    "    print(i)"
   ]
  },
  {
   "cell_type": "code",
   "execution_count": null,
   "id": "188231d0-bc0f-478e-a67f-3b7d03a252d3",
   "metadata": {},
   "outputs": [],
   "source": []
  }
 ],
 "metadata": {
  "kernelspec": {
   "display_name": "Python 3",
   "language": "python",
   "name": "python3"
  },
  "language_info": {
   "codemirror_mode": {
    "name": "ipython",
    "version": 3
   },
   "file_extension": ".py",
   "mimetype": "text/x-python",
   "name": "python",
   "nbconvert_exporter": "python",
   "pygments_lexer": "ipython3",
   "version": "3.8.8"
  }
 },
 "nbformat": 4,
 "nbformat_minor": 5
}
