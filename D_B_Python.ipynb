{
 "cells": [
  {
   "cell_type": "code",
   "execution_count": null,
   "id": "d2062b73-0251-494d-9db9-56733db64e31",
   "metadata": {},
   "outputs": [],
   "source": [
    "Part 1 (Basics, strings, lists, tuples, dictionaries)\n",
    "1. Write a python function ‘convert’ to convert a python string to a python list of words: (4\n",
    "marks)\n",
    "example:\n",
    "str = “ajit.singh@transorg.com” list = [‘ajit’,’singh’,’transorg’,’com’]"
   ]
  },
  {
   "cell_type": "code",
   "execution_count": null,
   "id": "3a197324-10a2-41c0-90f3-c7145dd712b5",
   "metadata": {},
   "outputs": [],
   "source": [
    "question1"
   ]
  },
  {
   "cell_type": "code",
   "execution_count": 93,
   "id": "a3520345-2d48-48de-82af-c066d4d07972",
   "metadata": {},
   "outputs": [],
   "source": [
    "def convert(str):\n",
    "    s1=str.split(\".\")\n",
    "    #print(s1)\n",
    "    s10=[]\n",
    "    for i in s1:\n",
    "        #print(i)\n",
    "        if '@' not in i:\n",
    "            s10.append(i)\n",
    "    print(s10)\n",
    "    s2=s1[1].split(\"@\")\n",
    "    print(s2)\n",
    "    final=s10+s2\n",
    "    print(final)\n",
    "    "
   ]
  },
  {
   "cell_type": "code",
   "execution_count": 94,
   "id": "2de9efa9-e2f6-4a18-b58e-4747e2e267df",
   "metadata": {},
   "outputs": [
    {
     "name": "stdout",
     "output_type": "stream",
     "text": [
      "['ajit', 'com']\n",
      "['singh', 'transorg']\n",
      "['ajit', 'com', 'singh', 'transorg']\n"
     ]
    }
   ],
   "source": [
    "convert(\"ajit.singh@transorg.com\")"
   ]
  },
  {
   "cell_type": "code",
   "execution_count": null,
   "id": "0f36a79c-6d9b-4972-a176-f2d93946a905",
   "metadata": {},
   "outputs": [],
   "source": [
    "question2"
   ]
  },
  {
   "cell_type": "code",
   "execution_count": 95,
   "id": "cff5cf57-59d7-47f6-85ba-7ce9b79ab803",
   "metadata": {},
   "outputs": [
    {
     "name": "stdout",
     "output_type": "stream",
     "text": [
      "[2, 3, 4]\n"
     ]
    }
   ],
   "source": [
    "def intersection(l1, l2):\n",
    "    lst3 = [value for value in l1 if value in l2]\n",
    "    return lst3\n",
    "l1 = [1,2,3,4,5,6] \n",
    "l2 = [2,3,4,7,8]\n",
    "print(intersection(l1, l2))"
   ]
  },
  {
   "cell_type": "code",
   "execution_count": null,
   "id": "a33055bf-d60a-4f01-9e0c-82411a9e5cfb",
   "metadata": {},
   "outputs": [],
   "source": [
    "question3"
   ]
  },
  {
   "cell_type": "code",
   "execution_count": 100,
   "id": "c87a7534-cbcc-4082-a3ed-966604fca06b",
   "metadata": {},
   "outputs": [
    {
     "name": "stdout",
     "output_type": "stream",
     "text": [
      "The list after conversion is :  {1, 2, 3, 4}\n"
     ]
    }
   ],
   "source": [
    "l1 = [1,2,2,1,3,4]\n",
    "print(\"The list after conversion is : \" ,(set(l1)))"
   ]
  },
  {
   "cell_type": "code",
   "execution_count": null,
   "id": "19b66310-38c5-4119-b936-6b6d8b9a431f",
   "metadata": {},
   "outputs": [],
   "source": [
    "question4:"
   ]
  },
  {
   "cell_type": "code",
   "execution_count": 101,
   "id": "74ffd5ea-11ba-4ad9-ae46-4ac7fedcf042",
   "metadata": {},
   "outputs": [
    {
     "name": "stdout",
     "output_type": "stream",
     "text": [
      "Second largest element is: 104\n"
     ]
    }
   ],
   "source": [
    "# list of numbers\n",
    "l1= [100,101,102,103,104,105]\n",
    "\n",
    "# sorting the list\n",
    "l1.sort()\n",
    " \n",
    "# printing the second last element\n",
    "print(\"Second largest element is:\", l1[-2])"
   ]
  },
  {
   "cell_type": "code",
   "execution_count": null,
   "id": "74ee9230-7f6e-416a-b648-733d29be7621",
   "metadata": {},
   "outputs": [],
   "source": [
    "question5:"
   ]
  },
  {
   "cell_type": "code",
   "execution_count": 102,
   "id": "ea91e0a7-3f2d-4577-af36-7b12c3dad0b3",
   "metadata": {},
   "outputs": [
    {
     "name": "stdout",
     "output_type": "stream",
     "text": [
      "[(1, 2), (2, 3), (3, 4)]\n"
     ]
    }
   ],
   "source": [
    "#5. Write a python code to generate a list of tuples from a dictionary. (2 marks)\n",
    "d = {1:2,2:3,3:4}\n",
    "list = []\n",
    "for i in d:\n",
    "    k = (i, d[i])\n",
    "    list.append(k)\n",
    "#Printing list\n",
    "print(list)"
   ]
  },
  {
   "cell_type": "code",
   "execution_count": null,
   "id": "8b6f517c-4c4a-4b29-9428-4382f1c8b3ec",
   "metadata": {},
   "outputs": [],
   "source": [
    "#PART2"
   ]
  },
  {
   "cell_type": "code",
   "execution_count": null,
   "id": "145cd82b-4d23-4e26-a59a-1a73b82b266e",
   "metadata": {},
   "outputs": [],
   "source": [
    "Write a lambda function to square the elements in a list (1.5 marks)\n",
    "l1= [1,2,3,4,5,6,7,8,9]\n"
   ]
  },
  {
   "cell_type": "code",
   "execution_count": 71,
   "id": "ef6dab76-ee23-4ea0-ae06-9d8c436a00fe",
   "metadata": {},
   "outputs": [
    {
     "name": "stdout",
     "output_type": "stream",
     "text": [
      "Original list of integers:\n",
      "[1, 2, 3, 4, 5, 6, 7, 8, 9]\n",
      "\n",
      "Square every number of the said list:\n",
      "[1, 4, 9, 16, 25, 36, 49, 64, 81]\n"
     ]
    }
   ],
   "source": [
    "l1= [1,2,3,4,5,6,7,8,9]\n",
    "print(\"Original list of integers:\")\n",
    "print(l1)\n",
    "print(\"\\nSquare every number of the said list:\")\n",
    "square_nums = list(map(lambda x: x ** 2, l1))\n",
    "print(square_nums)"
   ]
  },
  {
   "cell_type": "code",
   "execution_count": null,
   "id": "59adbeb7-851f-4253-b574-4f213d2080af",
   "metadata": {},
   "outputs": [],
   "source": []
  },
  {
   "cell_type": "code",
   "execution_count": null,
   "id": "d5320284-fe8d-4eec-a867-b51cfef0598d",
   "metadata": {},
   "outputs": [],
   "source": [
    "2. Write a lambda function to find the smaller value between two elements. (1.5 marks)\n",
    "Example:\n",
    "Input: 2,3\n",
    "Output: 2"
   ]
  },
  {
   "cell_type": "code",
   "execution_count": 72,
   "id": "9d094c30-c9ed-4bb0-aeba-b5f23c518740",
   "metadata": {},
   "outputs": [
    {
     "name": "stdout",
     "output_type": "stream",
     "text": [
      "2\n"
     ]
    }
   ],
   "source": [
    "get_min = lambda a, b : min(a,b)\n",
    "print(get_min(2,3))"
   ]
  },
  {
   "cell_type": "code",
   "execution_count": null,
   "id": "ef3c7425-ddc1-44df-b1f2-ae49f27445fc",
   "metadata": {},
   "outputs": [],
   "source": [
    "#Part#3"
   ]
  },
  {
   "cell_type": "code",
   "execution_count": 45,
   "id": "e9d78be0-7f2d-48f1-b4c3-56e19caae7ff",
   "metadata": {},
   "outputs": [],
   "source": [
    "import pandas as pd\n",
    "import numpy as np\n",
    "dict1 = {'ID':[1,2,3,4,5],'Name':['Alpha','Bravo','Charlie','Delta','Echo']}\n",
    "dict2 = {'ID':[2,2,5,3,1,1,4,4],\n",
    "'Sport':['Cricket','Football','Basketball','Basketball','Table tennis','Cricket','Football','Basketball']}\n",
    "dict3 = {'ID':[2,1,3,5,4], 'Marks':[30,' ',85,65,97]}\n",
    "df1 = pd.DataFrame(data = dict1)\n",
    "df2 = pd.DataFrame(data = dict2)\n",
    "df3= pd.DataFrame(data = dict3)\n",
    "df3['Marks']=np.where(df3['ID']==1,np.nan,df3['Marks'])"
   ]
  },
  {
   "cell_type": "code",
   "execution_count": 46,
   "id": "ee0a639f-6502-4537-ada3-799c4c2286ed",
   "metadata": {},
   "outputs": [],
   "source": [
    "merged_df = df1.merge(df2, how=\"inner\")"
   ]
  },
  {
   "cell_type": "code",
   "execution_count": 48,
   "id": "1cd189cb-5225-4aa1-89dd-76a781750750",
   "metadata": {},
   "outputs": [
    {
     "data": {
      "text/html": [
       "<div>\n",
       "<style scoped>\n",
       "    .dataframe tbody tr th:only-of-type {\n",
       "        vertical-align: middle;\n",
       "    }\n",
       "\n",
       "    .dataframe tbody tr th {\n",
       "        vertical-align: top;\n",
       "    }\n",
       "\n",
       "    .dataframe thead th {\n",
       "        text-align: right;\n",
       "    }\n",
       "</style>\n",
       "<table border=\"1\" class=\"dataframe\">\n",
       "  <thead>\n",
       "    <tr style=\"text-align: right;\">\n",
       "      <th></th>\n",
       "      <th>ID</th>\n",
       "      <th>Name</th>\n",
       "      <th>Sport</th>\n",
       "    </tr>\n",
       "  </thead>\n",
       "  <tbody>\n",
       "    <tr>\n",
       "      <th>0</th>\n",
       "      <td>1</td>\n",
       "      <td>Alpha</td>\n",
       "      <td>Table tennis</td>\n",
       "    </tr>\n",
       "    <tr>\n",
       "      <th>1</th>\n",
       "      <td>1</td>\n",
       "      <td>Alpha</td>\n",
       "      <td>Cricket</td>\n",
       "    </tr>\n",
       "    <tr>\n",
       "      <th>2</th>\n",
       "      <td>2</td>\n",
       "      <td>Bravo</td>\n",
       "      <td>Cricket</td>\n",
       "    </tr>\n",
       "    <tr>\n",
       "      <th>3</th>\n",
       "      <td>2</td>\n",
       "      <td>Bravo</td>\n",
       "      <td>Football</td>\n",
       "    </tr>\n",
       "    <tr>\n",
       "      <th>4</th>\n",
       "      <td>3</td>\n",
       "      <td>Charlie</td>\n",
       "      <td>Basketball</td>\n",
       "    </tr>\n",
       "    <tr>\n",
       "      <th>5</th>\n",
       "      <td>4</td>\n",
       "      <td>Delta</td>\n",
       "      <td>Football</td>\n",
       "    </tr>\n",
       "    <tr>\n",
       "      <th>6</th>\n",
       "      <td>4</td>\n",
       "      <td>Delta</td>\n",
       "      <td>Basketball</td>\n",
       "    </tr>\n",
       "    <tr>\n",
       "      <th>7</th>\n",
       "      <td>5</td>\n",
       "      <td>Echo</td>\n",
       "      <td>Basketball</td>\n",
       "    </tr>\n",
       "  </tbody>\n",
       "</table>\n",
       "</div>"
      ],
      "text/plain": [
       "   ID     Name         Sport\n",
       "0   1    Alpha  Table tennis\n",
       "1   1    Alpha       Cricket\n",
       "2   2    Bravo       Cricket\n",
       "3   2    Bravo      Football\n",
       "4   3  Charlie    Basketball\n",
       "5   4    Delta      Football\n",
       "6   4    Delta    Basketball\n",
       "7   5     Echo    Basketball"
      ]
     },
     "execution_count": 48,
     "metadata": {},
     "output_type": "execute_result"
    }
   ],
   "source": [
    "merged_df"
   ]
  },
  {
   "cell_type": "code",
   "execution_count": null,
   "id": "d9d3a192-ed0d-4589-9332-e5d3943a12dc",
   "metadata": {},
   "outputs": [],
   "source": [
    "2.Find the number of ID’s having marks greater than 80. Also, find the maximum and\n",
    "minimum values of the column “Marks” in table 3."
   ]
  },
  {
   "cell_type": "code",
   "execution_count": 49,
   "id": "9abd5ccd-d294-467e-8dbc-80765fa2d086",
   "metadata": {},
   "outputs": [
    {
     "data": {
      "text/html": [
       "<div>\n",
       "<style scoped>\n",
       "    .dataframe tbody tr th:only-of-type {\n",
       "        vertical-align: middle;\n",
       "    }\n",
       "\n",
       "    .dataframe tbody tr th {\n",
       "        vertical-align: top;\n",
       "    }\n",
       "\n",
       "    .dataframe thead th {\n",
       "        text-align: right;\n",
       "    }\n",
       "</style>\n",
       "<table border=\"1\" class=\"dataframe\">\n",
       "  <thead>\n",
       "    <tr style=\"text-align: right;\">\n",
       "      <th></th>\n",
       "      <th>ID</th>\n",
       "      <th>Marks</th>\n",
       "    </tr>\n",
       "  </thead>\n",
       "  <tbody>\n",
       "    <tr>\n",
       "      <th>0</th>\n",
       "      <td>2</td>\n",
       "      <td>30</td>\n",
       "    </tr>\n",
       "    <tr>\n",
       "      <th>1</th>\n",
       "      <td>1</td>\n",
       "      <td>NaN</td>\n",
       "    </tr>\n",
       "    <tr>\n",
       "      <th>2</th>\n",
       "      <td>3</td>\n",
       "      <td>85</td>\n",
       "    </tr>\n",
       "    <tr>\n",
       "      <th>3</th>\n",
       "      <td>5</td>\n",
       "      <td>65</td>\n",
       "    </tr>\n",
       "    <tr>\n",
       "      <th>4</th>\n",
       "      <td>4</td>\n",
       "      <td>97</td>\n",
       "    </tr>\n",
       "  </tbody>\n",
       "</table>\n",
       "</div>"
      ],
      "text/plain": [
       "   ID Marks\n",
       "0   2    30\n",
       "1   1   NaN\n",
       "2   3    85\n",
       "3   5    65\n",
       "4   4    97"
      ]
     },
     "execution_count": 49,
     "metadata": {},
     "output_type": "execute_result"
    }
   ],
   "source": [
    "df3"
   ]
  },
  {
   "cell_type": "code",
   "execution_count": 60,
   "id": "067f53d4-d385-46d6-9496-8f8c021b0cdd",
   "metadata": {},
   "outputs": [],
   "source": [
    "df_mar=df3[df3['Marks']>80]"
   ]
  },
  {
   "cell_type": "code",
   "execution_count": 68,
   "id": "c0a86410-556b-457d-afb5-f1a3542c044a",
   "metadata": {},
   "outputs": [
    {
     "data": {
      "text/plain": [
       "2    3\n",
       "4    4\n",
       "Name: ID, dtype: int64"
      ]
     },
     "execution_count": 68,
     "metadata": {},
     "output_type": "execute_result"
    }
   ],
   "source": [
    "df_mar['ID']"
   ]
  },
  {
   "cell_type": "code",
   "execution_count": null,
   "id": "f2c0639b-c38f-4b44-b8c0-706e047ff78d",
   "metadata": {},
   "outputs": [],
   "source": []
  }
 ],
 "metadata": {
  "kernelspec": {
   "display_name": "Python 3",
   "language": "python",
   "name": "python3"
  },
  "language_info": {
   "codemirror_mode": {
    "name": "ipython",
    "version": 3
   },
   "file_extension": ".py",
   "mimetype": "text/x-python",
   "name": "python",
   "nbconvert_exporter": "python",
   "pygments_lexer": "ipython3",
   "version": "3.8.8"
  }
 },
 "nbformat": 4,
 "nbformat_minor": 5
}
