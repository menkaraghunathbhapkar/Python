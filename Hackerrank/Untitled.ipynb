{
 "cells": [
  {
   "cell_type": "code",
   "execution_count": 1,
   "id": "cdd509b2-505e-4218-a1cf-b53e70f8ab01",
   "metadata": {},
   "outputs": [
    {
     "name": "stdin",
     "output_type": "stream",
     "text": [
      " abcabc\n",
      " abc\n"
     ]
    },
    {
     "name": "stdout",
     "output_type": "stream",
     "text": [
      "6\n",
      "0\n"
     ]
    }
   ],
   "source": [
    "def count_substring(string, sub_string):\n",
    "    length_original_string = len(string)\n",
    "    print(length_original_string)\n",
    "    length_sub_string = len(sub_string)\n",
    "    print(length_sub_string)\n",
    "    count=0\n",
    "    for i in range(length_sub_string):\n",
    "        for j in range(length_sub_string):\n",
    "            if(sub_string[i]==sub_string[j]):\n",
    "                break\n",
    "            else:\n",
    "                continue\n",
    "    a = 0\n",
    "    return a\n",
    "\n",
    "\n",
    "if __name__ == '__main__':\n",
    "    string = input().strip()\n",
    "    sub_string = input().strip()\n",
    "\n",
    "    count = count_substring(string, sub_string)\n",
    "\n",
    "    print(count)\n"
   ]
  },
  {
   "cell_type": "code",
   "execution_count": 4,
   "id": "b6943cd3-8967-4bcc-9813-0e38bfe041e5",
   "metadata": {},
   "outputs": [
    {
     "name": "stdout",
     "output_type": "stream",
     "text": [
      "Exists\n"
     ]
    }
   ],
   "source": [
    "if \"Hire\" in \"Hire the top freelancers\":\n",
    "    print(\"Exists\")\n",
    "else:\n",
    "    print(\"Does not exist\")\n"
   ]
  },
  {
   "cell_type": "code",
   "execution_count": 5,
   "id": "ff97e468-a895-4da1-80a8-46c1d097f732",
   "metadata": {},
   "outputs": [
    {
     "name": "stdout",
     "output_type": "stream",
     "text": [
      "Does not exist\n"
     ]
    }
   ],
   "source": [
    "if \"Hire\" in \"Hire the top freelancers\".lower():\n",
    "    print(\"Exists\")\n",
    "else:\n",
    "    print(\"Does not exist\")"
   ]
  },
  {
   "cell_type": "code",
   "execution_count": 6,
   "id": "a5d4c99c-3fe8-4a50-9590-253ee398f0e4",
   "metadata": {},
   "outputs": [
    {
     "name": "stdout",
     "output_type": "stream",
     "text": [
      "Exists\n"
     ]
    }
   ],
   "source": [
    "if \"hire\" in \"Hire the top freelancers\".lower():\n",
    "    print(\"Exists\")\n",
    "else:\n",
    "    print(\"Does not exist\")"
   ]
  },
  {
   "cell_type": "code",
   "execution_count": 8,
   "id": "d5e3a81c-0405-4ce2-81d8-e2b111be4bc6",
   "metadata": {},
   "outputs": [
    {
     "name": "stdout",
     "output_type": "stream",
     "text": [
      "0\n"
     ]
    }
   ],
   "source": [
    "sting=\"Hire the top freelancers\"\n",
    "sti=\"Hire\"\n",
    "try:\n",
    "    \"Hire the top freelancers\".index(\"Hire\")\n",
    "except ValueError:\n",
    "    print(\"Does not exist\")\n",
    "else:\n",
    "    print(sting.index(sti))"
   ]
  },
  {
   "cell_type": "code",
   "execution_count": 9,
   "id": "fa43b8fa-bc13-4f54-ad2d-e2767ce2261d",
   "metadata": {},
   "outputs": [
    {
     "name": "stdout",
     "output_type": "stream",
     "text": [
      "The count is: 2\n"
     ]
    }
   ],
   "source": [
    "# define string\n",
    "string = \"Python is awesome, isn't it?\"\n",
    "substring = \"is\"\n",
    "\n",
    "count = string.count(substring)\n",
    "\n",
    "# print count\n",
    "print(\"The count is:\", count)"
   ]
  },
  {
   "cell_type": "code",
   "execution_count": 20,
   "id": "7a3bf712-dc7e-4572-9ec9-96358878336d",
   "metadata": {},
   "outputs": [
    {
     "name": "stdout",
     "output_type": "stream",
     "text": [
      "The count is: 4\n"
     ]
    }
   ],
   "source": [
    "# count of a substring using end and start\n",
    "# define string\n",
    "string = \"Python is awesome, isn't  isn't  isn't  isn't isn't it?\"\n",
    "substring = \"isn't\"\n",
    "\n",
    "# count after first 'i' and before the last 'i'\n",
    "count = string.count(substring, 8, 45)\n",
    "\n",
    "# print count\n",
    "print(\"The count is:\", count)"
   ]
  },
  {
   "cell_type": "code",
   "execution_count": null,
   "id": "53b8f081-8613-4098-91fe-e15bb7cd3de6",
   "metadata": {},
   "outputs": [],
   "source": []
  },
  {
   "cell_type": "code",
   "execution_count": null,
   "id": "e05a242d-a1af-4503-a6d1-7bdcc15f05c8",
   "metadata": {},
   "outputs": [],
   "source": []
  }
 ],
 "metadata": {
  "kernelspec": {
   "display_name": "Python 3 (ipykernel)",
   "language": "python",
   "name": "python3"
  },
  "language_info": {
   "codemirror_mode": {
    "name": "ipython",
    "version": 3
   },
   "file_extension": ".py",
   "mimetype": "text/x-python",
   "name": "python",
   "nbconvert_exporter": "python",
   "pygments_lexer": "ipython3",
   "version": "3.10.0"
  }
 },
 "nbformat": 4,
 "nbformat_minor": 5
}
