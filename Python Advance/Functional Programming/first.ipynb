{
 "cells": [
  {
   "cell_type": "markdown",
   "id": "ebb3f471-e3b4-4cbf-b7d1-835cca30d9a0",
   "metadata": {},
   "source": [
    "Functional programming :what to solve\n",
    "imperative style:how to solve"
   ]
  },
  {
   "cell_type": "code",
   "execution_count": null,
   "id": "7f973689-7582-44b6-b777-959541e867c1",
   "metadata": {},
   "outputs": [],
   "source": [
    "Concepts of Functional Programming\n",
    "Any Functional programming language is expected to follow these concepts.\n",
    "\n",
    "Pure Functions: These functions have two main properties. First, they always produce the same output for the same arguments irrespective of anything else. Secondly, they have no side-effects i.e. they do mod any argumeifynt or global variables or output something.\n",
    "Recursion: There are no “for” or “while” loop in functional languages. Iteration in functional languages is implemented through recursion.\n",
    "Functions are First-Class and can be Higher-Order: First-class functions are treated as first-class variable. The first-class variables can be passed to functions as a parameter, can be returned from functions or stored in data structures.\n",
    "Variables are Immutable: In functional programming, we can’t modify a variable after it’s been initialized. We can create new variables – but we can’t modify existing variables."
   ]
  },
  {
   "cell_type": "code",
   "execution_count": 4,
   "id": "1757a43d-cbb1-4da3-8eb6-6e8712318173",
   "metadata": {},
   "outputs": [
    {
     "name": "stdout",
     "output_type": "stream",
     "text": [
      "Original List: [1, 2, 3, 4]\n",
      "Modified List: [1, 4, 9, 16]\n"
     ]
    }
   ],
   "source": [
    "# Python program to demonstrate\n",
    "# pure functions\n",
    "# A pure function that does Not\n",
    "# changes the input list and \n",
    "# returns the new List\n",
    "def pure_func(List):\n",
    "      \n",
    "    New_List = []\n",
    "      \n",
    "    for i in List:\n",
    "        New_List.append(i**2)\n",
    "          \n",
    "    return New_List\n",
    "      \n",
    "# Driver's code\n",
    "Original_List = [1, 2, 3, 4]\n",
    "Modified_List = pure_func(Original_List)\n",
    "  \n",
    "print(\"Original List:\", Original_List)\n",
    "print(\"Modified List:\", Modified_List)"
   ]
  },
  {
   "cell_type": "code",
   "execution_count": 5,
   "id": "79c87325-f88b-4182-991e-f9db9739afab",
   "metadata": {},
   "outputs": [
    {
     "name": "stdout",
     "output_type": "stream",
     "text": [
      "15\n"
     ]
    }
   ],
   "source": [
    "#Example: Let’s consider a program that will find the sum of all the elements of a list without using any for loop.\n",
    "# Python program to demonstrate\n",
    "# recursion\n",
    "# Recursive Function to find\n",
    "# sum of a list\n",
    "def Sum(L, i, n, count):\n",
    "    # Base case\n",
    "    if n <= i:\n",
    "        return count\n",
    "    count += L[i]\n",
    "      # Going into the recursion\n",
    "    count = Sum(L, i + 1, n, count)\n",
    "      \n",
    "    return count\n",
    "      \n",
    "# Driver's code\n",
    "L = [1, 2, 3, 4, 5]\n",
    "count = 0\n",
    "n = len(L)\n",
    "print(Sum(L, 0, n, count))"
   ]
  },
  {
   "cell_type": "code",
   "execution_count": 6,
   "id": "0386cd9c-9e5f-4c39-aa20-eac32ea65322",
   "metadata": {},
   "outputs": [
    {
     "name": "stdout",
     "output_type": "stream",
     "text": [
      "HI, I AM CREATED BY A FUNCTION PASSED AS AN ARGUMENT.\n",
      "hi, i am created by a function passed as an argument.\n"
     ]
    }
   ],
   "source": [
    "# Python program to demonstrate\n",
    "# higher order functions\n",
    "def shout(text): \n",
    "    return text.upper() \n",
    "    \n",
    "def whisper(text): \n",
    "    return text.lower() \n",
    "    \n",
    "def greet(func): \n",
    "    # storing the function in a variable \n",
    "    greeting = func(\"Hi, I am created by a function passed as an argument.\") \n",
    "    print(greeting)  \n",
    "    \n",
    "greet(shout) \n",
    "greet(whisper) "
   ]
  },
  {
   "cell_type": "code",
   "execution_count": 7,
   "id": "8b5f7417-42f7-42c4-abeb-5a6db8e05723",
   "metadata": {
    "tags": []
   },
   "outputs": [
    {
     "name": "stdout",
     "output_type": "stream",
     "text": [
      "<map object at 0x000001DF71C89790>\n",
      "2 4 6 8 "
     ]
    }
   ],
   "source": [
    "# Python program to demonstrate working \n",
    "# of map. \n",
    "# Return double of n \n",
    "def addition(n): \n",
    "    return n + n \n",
    "    \n",
    "# We double all numbers using map() \n",
    "numbers = (1, 2, 3, 4) \n",
    "results = map(addition, numbers) \n",
    "  \n",
    "# Does not Print the value\n",
    "print(results)\n",
    "  \n",
    "# For Printing value\n",
    "for result in results:\n",
    "    print(result, end = \" \")"
   ]
  },
  {
   "cell_type": "code",
   "execution_count": 9,
   "id": "25572b0a-e172-42e8-870e-e8c8e3e66c00",
   "metadata": {},
   "outputs": [
    {
     "name": "stdout",
     "output_type": "stream",
     "text": [
      "The filtered letters are:\n",
      "e\n",
      "e\n",
      "o\n"
     ]
    }
   ],
   "source": [
    "# Python program to demonstrate working \n",
    "# of the filter. \n",
    "# function that filters vowels \n",
    "def fun(variable): \n",
    "      \n",
    "    letters = ['a', 'e', 'i', 'o', 'u'] \n",
    "      \n",
    "    if (variable in letters): \n",
    "        return True\n",
    "    else: \n",
    "        return False\n",
    "    \n",
    "    \n",
    "# sequence \n",
    "sequence = ['g', 'e', 'e', 'j', 'k', 's', 'p', 'r','o'] \n",
    "    \n",
    "# using filter function \n",
    "filtered = filter(fun, sequence) \n",
    "    \n",
    "print('The filtered letters are:') \n",
    "  \n",
    "for s in filtered: \n",
    "    print(s) "
   ]
  },
  {
   "cell_type": "code",
   "execution_count": 10,
   "id": "dc998423-7eda-45d9-8a32-779620e52a90",
   "metadata": {},
   "outputs": [
    {
     "name": "stdout",
     "output_type": "stream",
     "text": [
      "343\n",
      "[2, 4, 6]\n"
     ]
    }
   ],
   "source": [
    "# Python code to demonstrate\n",
    "# lambda\n",
    "  \n",
    "    \n",
    "cube = lambda x: x * x*x \n",
    "print(cube(7)) \n",
    "    \n",
    "    \n",
    "L = [1, 3, 2, 4, 5, 6]\n",
    "is_even = [x for x in L if x % 2 == 0]\n",
    "  \n",
    "print(is_even)  "
   ]
  },
  {
   "cell_type": "code",
   "execution_count": 11,
   "id": "6cfe412d-d2ec-45fc-9a51-762c311e03e9",
   "metadata": {},
   "outputs": [
    {
     "ename": "TypeError",
     "evalue": "'str' object does not support item assignment",
     "output_type": "error",
     "traceback": [
      "\u001b[1;31m---------------------------------------------------------------------------\u001b[0m",
      "\u001b[1;31mTypeError\u001b[0m                                 Traceback (most recent call last)",
      "\u001b[1;32m<ipython-input-11-4c21ba5ca569>\u001b[0m in \u001b[0;36m<module>\u001b[1;34m\u001b[0m\n\u001b[0;32m      7\u001b[0m \u001b[1;31m# changing the values will\u001b[0m\u001b[1;33m\u001b[0m\u001b[1;33m\u001b[0m\u001b[1;33m\u001b[0m\u001b[0m\n\u001b[0;32m      8\u001b[0m \u001b[1;31m# raise an error\u001b[0m\u001b[1;33m\u001b[0m\u001b[1;33m\u001b[0m\u001b[1;33m\u001b[0m\u001b[0m\n\u001b[1;32m----> 9\u001b[1;33m \u001b[0mimmutable\u001b[0m\u001b[1;33m[\u001b[0m\u001b[1;36m1\u001b[0m\u001b[1;33m]\u001b[0m \u001b[1;33m=\u001b[0m \u001b[1;34m'K'\u001b[0m\u001b[1;33m\u001b[0m\u001b[1;33m\u001b[0m\u001b[0m\n\u001b[0m",
      "\u001b[1;31mTypeError\u001b[0m: 'str' object does not support item assignment"
     ]
    }
   ],
   "source": [
    "#in python we have string,Numeric,Tuple as immutable data types\n",
    "# Python program to demonstrate \n",
    "# immutable data types\n",
    "# String data types\n",
    "immutable = \"GeeksforGeeks\"\n",
    "  \n",
    "# changing the values will\n",
    "# raise an error\n",
    "immutable[1] = 'K'"
   ]
  },
  {
   "cell_type": "code",
   "execution_count": null,
   "id": "39dc1a4f-1c38-4e31-b4a7-784ffe1ef911",
   "metadata": {},
   "outputs": [],
   "source": []
  }
 ],
 "metadata": {
  "kernelspec": {
   "display_name": "Python 3",
   "language": "python",
   "name": "python3"
  },
  "language_info": {
   "codemirror_mode": {
    "name": "ipython",
    "version": 3
   },
   "file_extension": ".py",
   "mimetype": "text/x-python",
   "name": "python",
   "nbconvert_exporter": "python",
   "pygments_lexer": "ipython3",
   "version": "3.8.8"
  }
 },
 "nbformat": 4,
 "nbformat_minor": 5
}
