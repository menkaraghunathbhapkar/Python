{
 "cells": [
  {
   "cell_type": "code",
   "execution_count": 2,
   "id": "1a5c409b-21b0-4d46-914e-f5f7a489b34a",
   "metadata": {},
   "outputs": [
    {
     "name": "stdout",
     "output_type": "stream",
     "text": [
      "/home\\User/Desktop\\file.txt\n",
      "/home\\file.txt\n",
      "/home\n",
      "/home\\User/Public/Documents\\\n"
     ]
    }
   ],
   "source": [
    "# Python program to explain os.path.join() method\n",
    "   \n",
    "# importing os module\n",
    "import os\n",
    " \n",
    "# Path\n",
    "path = \"/home\"\n",
    " \n",
    "# Join various path components\n",
    "print(os.path.join(path, \"User/Desktop\", \"file.txt\"))\n",
    " \n",
    "\n",
    "# Path\n",
    "path = \"User/Documents\"\n",
    " \n",
    "# Join various path components\n",
    "print(os.path.join(path, \"/home\", \"file.txt\"))\n",
    " \n",
    "# In above example '/home'\n",
    "# represents an absolute path\n",
    "# so all previous components i.e User / Documents\n",
    "# are thrown away and joining continues\n",
    "# from the absolute path component i.e / home.\n",
    " \n",
    " \n",
    "#Path\n",
    "path = \"/User\"\n",
    " \n",
    "# Join various path components\n",
    "print(os.path.join(path, \"Downloads\", \"file.txt\", \"/home\"))\n",
    " \n",
    "# In above example '/User' and '/home'\n",
    "# both represents an absolute path\n",
    "# but '/home' is the last value\n",
    "# so all previous components before '/home'\n",
    "# will be discarded and joining will\n",
    "# continue from '/home'\n",
    " \n",
    "# Path\n",
    "path = \"/home\"\n",
    " \n",
    "# Join various path components\n",
    "print(os.path.join(path, \"User/Public/\", \"Documents\", \"\"))\n",
    " \n",
    "# In above example the last\n",
    "# path component is empty\n",
    "# so a directory separator ('/')\n",
    "# will be put at the end\n",
    "# along with the concatenated value\n"
   ]
  },
  {
   "cell_type": "code",
   "execution_count": 5,
   "id": "34f22c6a-4267-47c1-8806-13c55c39ddfd",
   "metadata": {},
   "outputs": [
    {
     "name": "stdout",
     "output_type": "stream",
     "text": [
      "Current working directory: C:\\Users\\Menka Bhapkar\\cctech_puzzle\\Training\\os module\n"
     ]
    }
   ],
   "source": [
    "# Python program to explain os.getcwd() method\n",
    "         \n",
    "# importing os module\n",
    "import os\n",
    "     \n",
    "# Get the current working\n",
    "# directory (CWD)\n",
    "cwd = os.getcwd()\n",
    "     \n",
    "# Print the current working\n",
    "# directory (CWD)\n",
    "print(\"Current working directory:\", cwd)"
   ]
  },
  {
   "cell_type": "code",
   "execution_count": 6,
   "id": "dd92bf3e-e040-4b4b-850f-73750c8b01d3",
   "metadata": {},
   "outputs": [
    {
     "name": "stdout",
     "output_type": "stream",
     "text": [
      "Current working directory before\n",
      "C:\\Users\\Menka Bhapkar\\cctech_puzzle\\Training\\os module\n",
      "\n",
      "Current working directory before\n",
      "C:\\Users\\Menka Bhapkar\\cctech_puzzle\\Training\n",
      "\n"
     ]
    }
   ],
   "source": [
    "import os\n",
    "   \n",
    "# Function to Get the current \n",
    "# working directory\n",
    "def current_path():\n",
    "    print(\"Current working directory before\")\n",
    "    print(os.getcwd())\n",
    "    print()\n",
    "   \n",
    "   \n",
    "# Driver's code\n",
    "# Printing CWD before\n",
    "current_path()\n",
    "   \n",
    "# Changing the CWD\n",
    "os.chdir('../')# single . represnt current working directory\n",
    "#.. represent Parent Directory\n",
    "   \n",
    "# Printing CWD after\n",
    "current_path()"
   ]
  },
  {
   "cell_type": "code",
   "execution_count": 10,
   "id": "8535b3ed-4bd6-4339-8e36-1e18b841b845",
   "metadata": {},
   "outputs": [
    {
     "name": "stdout",
     "output_type": "stream",
     "text": [
      "Directory 'GeeksforGeeks' created\n",
      "Directory 'Geeks' created\n"
     ]
    }
   ],
   "source": [
    "# Python program to explain os.mkdir() method\n",
    " \n",
    "# importing os module\n",
    "import os\n",
    " \n",
    "# Directory\n",
    "directory = \"GeeksforGeeks\"\n",
    " \n",
    "# Parent Directory path\n",
    "parent_dir = \"F:/cctech/\"\n",
    " \n",
    "# Path\n",
    "path = os.path.join(parent_dir, directory)\n",
    " \n",
    "# Create the directory\n",
    "# 'GeeksForGeeks' in\n",
    "# '/home / User / Documents'\n",
    "os.mkdir(path)\n",
    "print(\"Directory '% s' created\" % directory)\n",
    "\n",
    "# Directory\n",
    "directory = \"Geeks\"\n",
    " \n",
    "# Parent Directory path\n",
    "parent_dir = \"F:/cctech/\"\n",
    " \n",
    "# mode\n",
    "mode = 0o666\n",
    " \n",
    "# Path\n",
    "path = os.path.join(parent_dir, directory)\n",
    " \n",
    "# Create the directory\n",
    "# 'GeeksForGeeks' in\n",
    "# '/home / User / Documents'\n",
    "# with mode 0o666\n",
    "os.mkdir(path, mode)\n",
    "print(\"Directory '% s' created\" % directory)\n"
   ]
  },
  {
   "cell_type": "code",
   "execution_count": 12,
   "id": "45d4f5d7-2f38-41f3-9a60-98b9ae31ad6c",
   "metadata": {},
   "outputs": [
    {
     "name": "stdout",
     "output_type": "stream",
     "text": [
      "Files and directories in ' ./ ' :\n",
      "['.ipynb_checkpoints', 'data', 'MLP', 'Numpy', 'opencv', 'os module', 'python', 'pytorch']\n"
     ]
    }
   ],
   "source": [
    "# Python program to explain os.listdir() method\n",
    "     \n",
    "# importing os module\n",
    "import os\n",
    " \n",
    "# Get the list of all files and directories\n",
    "# in the root directory\n",
    "path = \"./\"\n",
    "dir_list = os.listdir(path)\n",
    " \n",
    "print(\"Files and directories in '\", path, \"' :\")\n",
    " \n",
    "# print the list\n",
    "print(dir_list)"
   ]
  },
  {
   "cell_type": "code",
   "execution_count": 10,
   "id": "6e67b2b8-88cd-4993-a902-14f90f93a4bf",
   "metadata": {},
   "outputs": [
    {
     "name": "stdout",
     "output_type": "stream",
     "text": [
      "Current Directory is: C:\\Users\\Menka Bhapkar\\cctech_puzzle\\Training\\os module\n",
      "Files and directories in ' ../ ' :\n",
      "['.ipynb_checkpoints', 'MLP', 'Numpy', 'opencv', 'os module', 'python', 'pytorch']\n",
      "['.ipynb_checkpoints', 'Untitled.ipynb']\n"
     ]
    }
   ],
   "source": [
    "print(\"Current Directory is:\",os.getcwd())\n",
    "# Python program to explain os.listdir() method\n",
    "     \n",
    "# importing os module\n",
    "import os\n",
    " \n",
    "# Get the list of all files and directories\n",
    "# in the root directory\n",
    "path = \"../\"\n",
    "dir_list = os.listdir(path)\n",
    "print(\"Files and directories in '\", path, \"' :\")\n",
    "# print the list\n",
    "print(dir_list)\n",
    "print(os.listdir(\"./\"))"
   ]
  },
  {
   "cell_type": "code",
   "execution_count": 24,
   "id": "a712671c-5c96-4319-8a67-22581564da6a",
   "metadata": {},
   "outputs": [
    {
     "name": "stdout",
     "output_type": "stream",
     "text": [
      "C:\\Users\\Menka Bhapkar\\cctech_puzzle\\Training\\os module\\second.txt\n"
     ]
    }
   ],
   "source": [
    "# Python program to explain os.remove() method\n",
    "# importing os module\n",
    "import os\n",
    "# File name\n",
    "file = 'second.txt'\n",
    "# File location\n",
    "location = r\"C:\\Users\\Menka Bhapkar\\cctech_puzzle\\Training\\os module\"\n",
    "#location = r\"./os module/\" This type of path is not working\n",
    "# Path\n",
    "path = os.path.join(location, file)\n",
    "print(path)\n",
    "# Remove the file\n",
    "# 'file.txt'\n",
    "os.remove(path)"
   ]
  },
  {
   "cell_type": "code",
   "execution_count": 30,
   "id": "3b378724-aca7-43c7-be04-2593d719fc24",
   "metadata": {},
   "outputs": [
    {
     "name": "stdout",
     "output_type": "stream",
     "text": [
      "C:\\Users\\Menka Bhapkar\\cctech_puzzle\\Training\\os module\\new\n"
     ]
    }
   ],
   "source": [
    "# Python program to explain os.rmdir() method\n",
    "# importing os module\n",
    "import os\n",
    "# Directory name\n",
    "directory = \"new\"\n",
    "# Parent Directory\n",
    "parent = r\"C:\\Users\\Menka Bhapkar\\cctech_puzzle\\Training\\os module\"\n",
    "# Path\n",
    "path = os.path.join(parent, directory)\n",
    "print(path)\n",
    "# Remove the Directory\n",
    "# \"Geeks\"\n",
    "os.rmdir(path)"
   ]
  },
  {
   "cell_type": "code",
   "execution_count": 32,
   "id": "9bfe417e-64c7-4da8-944c-d8e0cb09de55",
   "metadata": {},
   "outputs": [
    {
     "name": "stdout",
     "output_type": "stream",
     "text": [
      "Problem reading: GFG.txt\n"
     ]
    },
    {
     "name": "stderr",
     "output_type": "stream",
     "text": [
      "<ipython-input-32-c2bb747f050f>:6: DeprecationWarning: 'U' mode is deprecated\n",
      "  f = open(filename, 'rU')\n"
     ]
    }
   ],
   "source": [
    "\n",
    "import os \n",
    "try:\n",
    "    # If the file does not exist,\n",
    "    # then it would throw an IOError\n",
    "    filename = 'GFG.txt'\n",
    "    f = open(filename, 'rU')\n",
    "    text = f.read()\n",
    "    f.close()\n",
    "# Control jumps directly to here if\n",
    "# any of the above lines throws IOError.   \n",
    "except IOError:\n",
    " # print(os.error) will <class 'OSError'>\n",
    "    print('Problem reading: ' + filename)\n",
    "\n",
    "# In any case, the code then continues with\n",
    "# the line after the try/except"
   ]
  },
  {
   "cell_type": "code",
   "execution_count": 39,
   "id": "b1c30cef-8e7e-44c6-8b28-43d288318e3d",
   "metadata": {},
   "outputs": [],
   "source": [
    "import os\n",
    "fd = \"./second.txt\"\n",
    "os.rename(fd,'New.txt')\n"
   ]
  },
  {
   "cell_type": "code",
   "execution_count": 41,
   "id": "f15ecd9e-1f87-4cce-b6cd-2d3f3e76d048",
   "metadata": {},
   "outputs": [],
   "source": [
    "import os #importing os module.\n",
    "# It is workinmg Fine\n",
    "os.remove(\"./New.txt\") #removing the file."
   ]
  },
  {
   "cell_type": "code",
   "execution_count": null,
   "id": "41ab7f5b-fcbc-41b0-bfb8-e278c3ba67c7",
   "metadata": {},
   "outputs": [],
   "source": []
  }
 ],
 "metadata": {
  "kernelspec": {
   "display_name": "Python 3",
   "language": "python",
   "name": "python3"
  },
  "language_info": {
   "codemirror_mode": {
    "name": "ipython",
    "version": 3
   },
   "file_extension": ".py",
   "mimetype": "text/x-python",
   "name": "python",
   "nbconvert_exporter": "python",
   "pygments_lexer": "ipython3",
   "version": "3.8.8"
  }
 },
 "nbformat": 4,
 "nbformat_minor": 5
}
