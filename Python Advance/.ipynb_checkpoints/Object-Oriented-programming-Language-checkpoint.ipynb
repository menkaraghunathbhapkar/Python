{
 "cells": [
  {
   "cell_type": "code",
   "execution_count": 5,
   "id": "cdbad5e8-6831-4f55-b18b-c22e80b750b7",
   "metadata": {},
   "outputs": [
    {
     "name": "stdout",
     "output_type": "stream",
     "text": [
      "I am Created\n",
      "Price for Item1 is: 500\n",
      "I am Created\n",
      "Price for Second Item is: 5000\n",
      "<class '__main__.Item'>\n",
      "<class 'str'>\n",
      "<class 'int'>\n",
      "<class 'int'>\n",
      "<class 'str'>\n",
      "MENKA\n",
      "<class 'str'>\n"
     ]
    }
   ],
   "source": [
    "class Item:\n",
    "    def __init__(self):\n",
    "        print(\"I am Created\")\n",
    "        \n",
    "    def calculate_total_price(self,x,y):\n",
    "        return x*y\n",
    "item1=Item()\n",
    "item1.name=\"abc\"\n",
    "item1.price=100\n",
    "item1.quantity=5\n",
    "print(\"Price for Item1 is:\",item1.calculate_total_price(item1.price,item1.quantity))\n",
    "\n",
    "item2=Item()\n",
    "item2.name=\"abc\"\n",
    "item2.price=1000\n",
    "item2.quantity=5\n",
    "print(\"Price for Second Item is:\",item2.calculate_total_price(item2.price,item2.quantity))\n",
    "print(type(item1))\n",
    "print(type(item1.name))\n",
    "print(type(item1.price))\n",
    "print(type(item1.quantity))\n",
    "random_str=\"menka\"\n",
    "print(type(random_str))\n",
    "print(random_str.upper())\n",
    "random_str1=str(\"menkaBhapkar\")\n",
    "print(type(random_str1))"
   ]
  },
  {
   "cell_type": "code",
   "execution_count": 3,
   "id": "2cca31d1-4eb3-4d27-a60b-3b5f4e3775b5",
   "metadata": {},
   "outputs": [
    {
     "name": "stdout",
     "output_type": "stream",
     "text": [
      "I am Created\n",
      "I am Created\n"
     ]
    }
   ],
   "source": [
    "class Item:\n",
    "    def __init__(self):\n",
    "        print(\"I am Created\")\n",
    "        \n",
    "    def calculate_total_price(self,x,y):\n",
    "        return x*y\n",
    "item1=Item()\n",
    "item1.name=\"abc\"\n",
    "item1.price=100\n",
    "item1.quantity=5\n",
    "# print(\"Price for Item1 is:\",item1.calculate_total_price(item1.price,item1.quantity))\n",
    "\n",
    "item2=Item()\n",
    "item2.name=\"abc\"\n",
    "item2.price=1000\n",
    "item2.quantity=5\n",
    "# print(\"Price for Second Item is:\",item2.calculate_total_price(item2.price,item2.quantity))\n",
    "# print(type(item1))\n",
    "# print(type(item1.name))\n",
    "# print(type(item1.price))\n",
    "# print(type(item1.quantity))\n",
    "# random_str=\"menka\"\n",
    "# print(type(random_str))\n",
    "# print(random_str.upper())\n",
    "# random_str1=str(\"menkaBhapkar\")\n",
    "# print(type(random_str1))"
   ]
  },
  {
   "cell_type": "code",
   "execution_count": null,
   "id": "1d9dd027-f1a0-4116-b139-76c3d26b9425",
   "metadata": {},
   "outputs": [],
   "source": [
    "class Item:\n",
    "    def __init__(self,name):\n",
    "        print(f\"THE OBJECT NAMe IS:{name}\")\n",
    "        \n",
    "    def calculate_total_price(self,x,y):\n",
    "        return x*y\n",
    "item1=Item(\"pen\")\n",
    "item1.name=\"abc\"\n",
    "item1.price=100\n",
    "item1.quantity=5\n",
    "# print(\"Price for Item1 is:\",item1.calculate_total_price(item1.price,item1.quantity))\n",
    "\n",
    "item2=Item(\"Laptop\")\n",
    "item2.name=\"abc\"\n",
    "item2.price=1000\n",
    "item2.quantity=5\n",
    "# print(\"Price for Second Item is:\",item2.calculate_total_price(item2.price,item2.quantity))\n",
    "# print(type(item1))\n",
    "# print(type(item1.name))\n",
    "# print(type(item1.price))\n",
    "# print(type(item1.quantity))\n",
    "# random_str=\"menka\"\n",
    "# print(type(random_str))\n",
    "# print(random_str.upper())\n",
    "# random_str1=str(\"menkaBhapkar\")\n",
    "# print(type(random_str1))"
   ]
  }
 ],
 "metadata": {
  "kernelspec": {
   "display_name": "Python 3",
   "language": "python",
   "name": "python3"
  },
  "language_info": {
   "codemirror_mode": {
    "name": "ipython",
    "version": 3
   },
   "file_extension": ".py",
   "mimetype": "text/x-python",
   "name": "python",
   "nbconvert_exporter": "python",
   "pygments_lexer": "ipython3",
   "version": "3.8.8"
  }
 },
 "nbformat": 4,
 "nbformat_minor": 5
}
